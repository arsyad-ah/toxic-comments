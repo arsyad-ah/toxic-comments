{
 "cells": [
  {
   "cell_type": "code",
   "execution_count": 1,
   "metadata": {
    "ExecuteTime": {
     "end_time": "2021-03-10T04:50:35.647080Z",
     "start_time": "2021-03-10T04:50:34.791781Z"
    }
   },
   "outputs": [],
   "source": [
    "import re\n",
    "import pandas as pd\n",
    "import numpy as np\n",
    "import matplotlib.pyplot as plt\n",
    "import seaborn as sns\n",
    "from vaderSentiment.vaderSentiment import SentimentIntensityAnalyzer\n",
    "from nltk.tokenize import sent_tokenize, word_tokenize\n",
    "from nltk.corpus import stopwords\n",
    "%matplotlib inline"
   ]
  },
  {
   "cell_type": "code",
   "execution_count": 2,
   "metadata": {
    "ExecuteTime": {
     "end_time": "2021-03-10T04:50:36.273539Z",
     "start_time": "2021-03-10T04:50:35.649002Z"
    }
   },
   "outputs": [],
   "source": [
    "path = '../data/train.csv'\n",
    "\n",
    "df = pd.read_csv(path)"
   ]
  },
  {
   "cell_type": "markdown",
   "metadata": {},
   "source": [
    "# EDA"
   ]
  },
  {
   "cell_type": "code",
   "execution_count": 3,
   "metadata": {
    "ExecuteTime": {
     "end_time": "2021-03-10T04:50:36.292190Z",
     "start_time": "2021-03-10T04:50:36.275435Z"
    }
   },
   "outputs": [
    {
     "name": "stdout",
     "output_type": "stream",
     "text": [
      "shape:  (159571, 8)\n"
     ]
    },
    {
     "data": {
      "text/html": [
       "<div>\n",
       "<style scoped>\n",
       "    .dataframe tbody tr th:only-of-type {\n",
       "        vertical-align: middle;\n",
       "    }\n",
       "\n",
       "    .dataframe tbody tr th {\n",
       "        vertical-align: top;\n",
       "    }\n",
       "\n",
       "    .dataframe thead th {\n",
       "        text-align: right;\n",
       "    }\n",
       "</style>\n",
       "<table border=\"1\" class=\"dataframe\">\n",
       "  <thead>\n",
       "    <tr style=\"text-align: right;\">\n",
       "      <th></th>\n",
       "      <th>id</th>\n",
       "      <th>comment_text</th>\n",
       "      <th>toxic</th>\n",
       "      <th>severe_toxic</th>\n",
       "      <th>obscene</th>\n",
       "      <th>threat</th>\n",
       "      <th>insult</th>\n",
       "      <th>identity_hate</th>\n",
       "    </tr>\n",
       "  </thead>\n",
       "  <tbody>\n",
       "    <tr>\n",
       "      <th>0</th>\n",
       "      <td>0000997932d777bf</td>\n",
       "      <td>Explanation\\nWhy the edits made under my usern...</td>\n",
       "      <td>0</td>\n",
       "      <td>0</td>\n",
       "      <td>0</td>\n",
       "      <td>0</td>\n",
       "      <td>0</td>\n",
       "      <td>0</td>\n",
       "    </tr>\n",
       "    <tr>\n",
       "      <th>1</th>\n",
       "      <td>000103f0d9cfb60f</td>\n",
       "      <td>D'aww! He matches this background colour I'm s...</td>\n",
       "      <td>0</td>\n",
       "      <td>0</td>\n",
       "      <td>0</td>\n",
       "      <td>0</td>\n",
       "      <td>0</td>\n",
       "      <td>0</td>\n",
       "    </tr>\n",
       "    <tr>\n",
       "      <th>2</th>\n",
       "      <td>000113f07ec002fd</td>\n",
       "      <td>Hey man, I'm really not trying to edit war. It...</td>\n",
       "      <td>0</td>\n",
       "      <td>0</td>\n",
       "      <td>0</td>\n",
       "      <td>0</td>\n",
       "      <td>0</td>\n",
       "      <td>0</td>\n",
       "    </tr>\n",
       "    <tr>\n",
       "      <th>3</th>\n",
       "      <td>0001b41b1c6bb37e</td>\n",
       "      <td>\"\\nMore\\nI can't make any real suggestions on ...</td>\n",
       "      <td>0</td>\n",
       "      <td>0</td>\n",
       "      <td>0</td>\n",
       "      <td>0</td>\n",
       "      <td>0</td>\n",
       "      <td>0</td>\n",
       "    </tr>\n",
       "    <tr>\n",
       "      <th>4</th>\n",
       "      <td>0001d958c54c6e35</td>\n",
       "      <td>You, sir, are my hero. Any chance you remember...</td>\n",
       "      <td>0</td>\n",
       "      <td>0</td>\n",
       "      <td>0</td>\n",
       "      <td>0</td>\n",
       "      <td>0</td>\n",
       "      <td>0</td>\n",
       "    </tr>\n",
       "  </tbody>\n",
       "</table>\n",
       "</div>"
      ],
      "text/plain": [
       "                 id                                       comment_text  toxic  \\\n",
       "0  0000997932d777bf  Explanation\\nWhy the edits made under my usern...      0   \n",
       "1  000103f0d9cfb60f  D'aww! He matches this background colour I'm s...      0   \n",
       "2  000113f07ec002fd  Hey man, I'm really not trying to edit war. It...      0   \n",
       "3  0001b41b1c6bb37e  \"\\nMore\\nI can't make any real suggestions on ...      0   \n",
       "4  0001d958c54c6e35  You, sir, are my hero. Any chance you remember...      0   \n",
       "\n",
       "   severe_toxic  obscene  threat  insult  identity_hate  \n",
       "0             0        0       0       0              0  \n",
       "1             0        0       0       0              0  \n",
       "2             0        0       0       0              0  \n",
       "3             0        0       0       0              0  \n",
       "4             0        0       0       0              0  "
      ]
     },
     "execution_count": 3,
     "metadata": {},
     "output_type": "execute_result"
    }
   ],
   "source": [
    "print('shape: ', df.shape)\n",
    "\n",
    "df.head()"
   ]
  },
  {
   "cell_type": "code",
   "execution_count": 4,
   "metadata": {
    "ExecuteTime": {
     "end_time": "2021-03-10T04:50:36.347914Z",
     "start_time": "2021-03-10T04:50:36.294594Z"
    }
   },
   "outputs": [
    {
     "name": "stdout",
     "output_type": "stream",
     "text": [
      "Columns with null values\n",
      "\n",
      "comment_text     0\n",
      "toxic            0\n",
      "severe_toxic     0\n",
      "obscene          0\n",
      "threat           0\n",
      "insult           0\n",
      "identity_hate    0\n",
      "dtype: int64\n",
      "--------------------------------------------------\n",
      "<class 'pandas.core.frame.DataFrame'>\n",
      "RangeIndex: 159571 entries, 0 to 159570\n",
      "Data columns (total 7 columns):\n",
      " #   Column         Non-Null Count   Dtype \n",
      "---  ------         --------------   ----- \n",
      " 0   comment_text   159571 non-null  object\n",
      " 1   toxic          159571 non-null  int64 \n",
      " 2   severe_toxic   159571 non-null  int64 \n",
      " 3   obscene        159571 non-null  int64 \n",
      " 4   threat         159571 non-null  int64 \n",
      " 5   insult         159571 non-null  int64 \n",
      " 6   identity_hate  159571 non-null  int64 \n",
      "dtypes: int64(6), object(1)\n",
      "memory usage: 8.5+ MB\n"
     ]
    }
   ],
   "source": [
    "df.drop('id', axis=1, inplace=True)\n",
    "\n",
    "print ('Columns with null values\\n')\n",
    "print (df.isnull().sum())\n",
    "print ('-' * 50)\n",
    "\n",
    "df.info()"
   ]
  },
  {
   "cell_type": "markdown",
   "metadata": {},
   "source": [
    "We see there are no null rows and columns"
   ]
  },
  {
   "cell_type": "code",
   "execution_count": 5,
   "metadata": {
    "ExecuteTime": {
     "end_time": "2021-03-10T04:50:36.404329Z",
     "start_time": "2021-03-10T04:50:36.349502Z"
    }
   },
   "outputs": [],
   "source": [
    "# cummulative sum of the toxic comments, where comments could have more than 1 label \n",
    "# this is a multi-classification problem\n",
    "df['toxic_cum_sum'] = df.iloc[:, 1:].sum(axis=1)\n",
    "\n",
    "# negative comments would have >= 1 cum_sum\n",
    "df['is_negative'] = df['toxic_cum_sum'].apply(lambda x: 1 if x >= 1 else 0)"
   ]
  },
  {
   "cell_type": "code",
   "execution_count": 6,
   "metadata": {
    "ExecuteTime": {
     "end_time": "2021-03-10T04:50:36.436024Z",
     "start_time": "2021-03-10T04:50:36.408124Z"
    }
   },
   "outputs": [
    {
     "data": {
      "text/html": [
       "<div>\n",
       "<style scoped>\n",
       "    .dataframe tbody tr th:only-of-type {\n",
       "        vertical-align: middle;\n",
       "    }\n",
       "\n",
       "    .dataframe tbody tr th {\n",
       "        vertical-align: top;\n",
       "    }\n",
       "\n",
       "    .dataframe thead th {\n",
       "        text-align: right;\n",
       "    }\n",
       "</style>\n",
       "<table border=\"1\" class=\"dataframe\">\n",
       "  <thead>\n",
       "    <tr style=\"text-align: right;\">\n",
       "      <th></th>\n",
       "      <th>comment_text</th>\n",
       "      <th>toxic</th>\n",
       "      <th>severe_toxic</th>\n",
       "      <th>obscene</th>\n",
       "      <th>threat</th>\n",
       "      <th>insult</th>\n",
       "      <th>identity_hate</th>\n",
       "      <th>toxic_cum_sum</th>\n",
       "      <th>is_negative</th>\n",
       "    </tr>\n",
       "  </thead>\n",
       "  <tbody>\n",
       "    <tr>\n",
       "      <th>135898</th>\n",
       "      <td>\"\\n\\n Please do not vandalize pages, as you di...</td>\n",
       "      <td>0</td>\n",
       "      <td>0</td>\n",
       "      <td>0</td>\n",
       "      <td>0</td>\n",
       "      <td>0</td>\n",
       "      <td>0</td>\n",
       "      <td>0</td>\n",
       "      <td>0</td>\n",
       "    </tr>\n",
       "    <tr>\n",
       "      <th>124712</th>\n",
       "      <td>Please stop editing pages as you did to poop. ...</td>\n",
       "      <td>0</td>\n",
       "      <td>0</td>\n",
       "      <td>0</td>\n",
       "      <td>0</td>\n",
       "      <td>0</td>\n",
       "      <td>0</td>\n",
       "      <td>0</td>\n",
       "      <td>0</td>\n",
       "    </tr>\n",
       "    <tr>\n",
       "      <th>133591</th>\n",
       "      <td>\" \\nOMG \\nOMG \\nOMG \\nOMG \\nOMG \\nOMG \\nOMG \\n...</td>\n",
       "      <td>0</td>\n",
       "      <td>0</td>\n",
       "      <td>0</td>\n",
       "      <td>0</td>\n",
       "      <td>0</td>\n",
       "      <td>0</td>\n",
       "      <td>0</td>\n",
       "      <td>0</td>\n",
       "    </tr>\n",
       "    <tr>\n",
       "      <th>15972</th>\n",
       "      <td>All right, who's the wise guy?\\nthat removed t...</td>\n",
       "      <td>0</td>\n",
       "      <td>0</td>\n",
       "      <td>0</td>\n",
       "      <td>0</td>\n",
       "      <td>0</td>\n",
       "      <td>0</td>\n",
       "      <td>0</td>\n",
       "      <td>0</td>\n",
       "    </tr>\n",
       "    <tr>\n",
       "      <th>27780</th>\n",
       "      <td>No such options with this unit, unfortunately....</td>\n",
       "      <td>0</td>\n",
       "      <td>0</td>\n",
       "      <td>0</td>\n",
       "      <td>0</td>\n",
       "      <td>0</td>\n",
       "      <td>0</td>\n",
       "      <td>0</td>\n",
       "      <td>0</td>\n",
       "    </tr>\n",
       "    <tr>\n",
       "      <th>49501</th>\n",
       "      <td>Somehow, I should have been notified of that d...</td>\n",
       "      <td>0</td>\n",
       "      <td>0</td>\n",
       "      <td>0</td>\n",
       "      <td>0</td>\n",
       "      <td>0</td>\n",
       "      <td>0</td>\n",
       "      <td>0</td>\n",
       "      <td>0</td>\n",
       "    </tr>\n",
       "    <tr>\n",
       "      <th>33308</th>\n",
       "      <td>\"\\n\\n\"\"Wikipedia is no place for cruelty, even...</td>\n",
       "      <td>0</td>\n",
       "      <td>0</td>\n",
       "      <td>0</td>\n",
       "      <td>0</td>\n",
       "      <td>0</td>\n",
       "      <td>0</td>\n",
       "      <td>0</td>\n",
       "      <td>0</td>\n",
       "    </tr>\n",
       "    <tr>\n",
       "      <th>21623</th>\n",
       "      <td>Heja Helwada offered cited references that Kho...</td>\n",
       "      <td>0</td>\n",
       "      <td>0</td>\n",
       "      <td>0</td>\n",
       "      <td>0</td>\n",
       "      <td>0</td>\n",
       "      <td>0</td>\n",
       "      <td>0</td>\n",
       "      <td>0</td>\n",
       "    </tr>\n",
       "    <tr>\n",
       "      <th>94134</th>\n",
       "      <td>No, There is a larger opposition than that. Al...</td>\n",
       "      <td>0</td>\n",
       "      <td>0</td>\n",
       "      <td>0</td>\n",
       "      <td>0</td>\n",
       "      <td>0</td>\n",
       "      <td>0</td>\n",
       "      <td>0</td>\n",
       "      <td>0</td>\n",
       "    </tr>\n",
       "    <tr>\n",
       "      <th>70279</th>\n",
       "      <td>Hi. \\n\\nHey. Can you give me a good thing to r...</td>\n",
       "      <td>0</td>\n",
       "      <td>0</td>\n",
       "      <td>0</td>\n",
       "      <td>0</td>\n",
       "      <td>0</td>\n",
       "      <td>0</td>\n",
       "      <td>0</td>\n",
       "      <td>0</td>\n",
       "    </tr>\n",
       "  </tbody>\n",
       "</table>\n",
       "</div>"
      ],
      "text/plain": [
       "                                             comment_text  toxic  \\\n",
       "135898  \"\\n\\n Please do not vandalize pages, as you di...      0   \n",
       "124712  Please stop editing pages as you did to poop. ...      0   \n",
       "133591  \" \\nOMG \\nOMG \\nOMG \\nOMG \\nOMG \\nOMG \\nOMG \\n...      0   \n",
       "15972   All right, who's the wise guy?\\nthat removed t...      0   \n",
       "27780   No such options with this unit, unfortunately....      0   \n",
       "49501   Somehow, I should have been notified of that d...      0   \n",
       "33308   \"\\n\\n\"\"Wikipedia is no place for cruelty, even...      0   \n",
       "21623   Heja Helwada offered cited references that Kho...      0   \n",
       "94134   No, There is a larger opposition than that. Al...      0   \n",
       "70279   Hi. \\n\\nHey. Can you give me a good thing to r...      0   \n",
       "\n",
       "        severe_toxic  obscene  threat  insult  identity_hate  toxic_cum_sum  \\\n",
       "135898             0        0       0       0              0              0   \n",
       "124712             0        0       0       0              0              0   \n",
       "133591             0        0       0       0              0              0   \n",
       "15972              0        0       0       0              0              0   \n",
       "27780              0        0       0       0              0              0   \n",
       "49501              0        0       0       0              0              0   \n",
       "33308              0        0       0       0              0              0   \n",
       "21623              0        0       0       0              0              0   \n",
       "94134              0        0       0       0              0              0   \n",
       "70279              0        0       0       0              0              0   \n",
       "\n",
       "        is_negative  \n",
       "135898            0  \n",
       "124712            0  \n",
       "133591            0  \n",
       "15972             0  \n",
       "27780             0  \n",
       "49501             0  \n",
       "33308             0  \n",
       "21623             0  \n",
       "94134             0  \n",
       "70279             0  "
      ]
     },
     "execution_count": 6,
     "metadata": {},
     "output_type": "execute_result"
    }
   ],
   "source": [
    "df.sample(5)"
   ]
  },
  {
   "cell_type": "code",
   "execution_count": 7,
   "metadata": {
    "ExecuteTime": {
     "end_time": "2021-03-10T04:50:36.443274Z",
     "start_time": "2021-03-10T04:50:36.437335Z"
    }
   },
   "outputs": [
    {
     "name": "stdout",
     "output_type": "stream",
     "text": [
      "Total no. of negative comments: 16225\n",
      "Breakdown of toxic_cum_sum:\n",
      " 0    143346\n",
      "1      6360\n",
      "3      4209\n",
      "2      3480\n",
      "4      1760\n",
      "5       385\n",
      "6        31\n",
      "Name: toxic_cum_sum, dtype: int64\n"
     ]
    }
   ],
   "source": [
    "print ('Total no. of negative comments:', df['is_negative'].sum())\n",
    "print ('Breakdown of toxic_cum_sum:\\n', df['toxic_cum_sum'].value_counts())"
   ]
  },
  {
   "cell_type": "code",
   "execution_count": 46,
   "metadata": {
    "ExecuteTime": {
     "end_time": "2021-03-10T05:55:27.826825Z",
     "start_time": "2021-03-10T05:55:27.644212Z"
    }
   },
   "outputs": [
    {
     "data": {
      "image/png": "[encoded data removed]",
      "text/plain": [
       "<Figure size 1008x288 with 1 Axes>"
      ]
     },
     "metadata": {
      "needs_background": "light"
     },
     "output_type": "display_data"
    }
   ],
   "source": [
    "# we shall see how the comments are distributed\n",
    "toxic_cols = ['toxic', 'severe_toxic', 'obscene', 'threat', 'insult', 'identity_hate']\n",
    "\n",
    "plt.figure(figsize=(14,4))\n",
    "plt.title('Count of comment types')\n",
    "sns.barplot(x=toxic_cols, \n",
    "            y=df[toxic_cols].sum().sort_values(ascending=False))\n",
    "plt.xticks(rotation=45)\n",
    "plt.show()"
   ]
  },
  {
   "cell_type": "code",
   "execution_count": 149,
   "metadata": {
    "ExecuteTime": {
     "end_time": "2021-03-11T03:37:11.116918Z",
     "start_time": "2021-03-11T03:37:11.108006Z"
    }
   },
   "outputs": [
    {
     "name": "stdout",
     "output_type": "stream",
     "text": [
      "Toxic count of dataset:\n",
      "toxic            9.584448\n",
      "obscene          5.294822\n",
      "insult           4.936361\n",
      "severe_toxic     0.999555\n",
      "identity_hate    0.880486\n",
      "threat           0.299553\n",
      "dtype: float64 \n",
      "\n"
     ]
    }
   ],
   "source": [
    "# we see an imbalanced dataset where most of the comments are clean / non-toxic\n",
    "\n",
    "print ('Toxic count of dataset:')\n",
    "print (df[toxic_cols].sum().sort_values(ascending=False) / df.shape[0] * 100, '\\n')\n",
    "\n",
    "# print ('% of dataset')\n",
    "# print (df[toxic_cols].sum().sort_values(ascending=False) / len(df) * 100)"
   ]
  },
  {
   "cell_type": "code",
   "execution_count": 35,
   "metadata": {
    "ExecuteTime": {
     "end_time": "2021-03-10T05:41:10.685073Z",
     "start_time": "2021-03-10T05:41:10.497498Z"
    }
   },
   "outputs": [
    {
     "name": "stdout",
     "output_type": "stream",
     "text": [
      "Breakdown of multi-classification comments:\n",
      "0    143346\n",
      "1      6360\n",
      "3      4209\n",
      "2      3480\n",
      "4      1760\n",
      "5       385\n",
      "6        31\n",
      "Name: toxic_cum_sum, dtype: int64\n"
     ]
    },
    {
     "name": "stderr",
     "output_type": "stream",
     "text": [
      "/anaconda3/envs/personal/lib/python3.6/site-packages/seaborn/_decorators.py:43: FutureWarning: Pass the following variable as a keyword arg: x. From version 0.12, the only valid positional argument will be `data`, and passing other arguments without an explicit keyword will result in an error or misinterpretation.\n",
      "  FutureWarning\n"
     ]
    },
    {
     "data": {
      "image/png": "[encoded data removed]",
      "text/plain": [
       "<Figure size 576x288 with 1 Axes>"
      ]
     },
     "metadata": {
      "needs_background": "light"
     },
     "output_type": "display_data"
    }
   ],
   "source": [
    "# checking the breakdown of multi-class toxic comments\n",
    "# similar to the above findings, we see that majority of the comments are clean while most of the \n",
    "# toxic comments have a single classification, with up to classified as all classification\n",
    "\n",
    "print ('Breakdown of multi-classification comments:')\n",
    "print (df['toxic_cum_sum'].value_counts())\n",
    "\n",
    "plt.figure(figsize=(8,4))\n",
    "plt.title('Multi-classification comments')\n",
    "sns.countplot(df['toxic_cum_sum'])\n",
    "plt.show()"
   ]
  },
  {
   "cell_type": "code",
   "execution_count": 34,
   "metadata": {
    "ExecuteTime": {
     "end_time": "2021-03-10T05:41:03.489689Z",
     "start_time": "2021-03-10T05:41:03.317189Z"
    }
   },
   "outputs": [
    {
     "name": "stdout",
     "output_type": "stream",
     "text": [
      "Negative Comments Count:\n",
      "0    143346\n",
      "1     16225\n",
      "Name: is_negative, dtype: int64 \n",
      "\n",
      "% Negative Comments: \n",
      "89.83211235124176\n",
      "10.167887648758233\n"
     ]
    },
    {
     "name": "stderr",
     "output_type": "stream",
     "text": [
      "/anaconda3/envs/personal/lib/python3.6/site-packages/seaborn/_decorators.py:43: FutureWarning: Pass the following variable as a keyword arg: x. From version 0.12, the only valid positional argument will be `data`, and passing other arguments without an explicit keyword will result in an error or misinterpretation.\n",
      "  FutureWarning\n"
     ]
    },
    {
     "data": {
      "image/png": "[encoded data removed]",
      "text/plain": [
       "<Figure size 576x288 with 1 Axes>"
      ]
     },
     "metadata": {
      "needs_background": "light"
     },
     "output_type": "display_data"
    }
   ],
   "source": [
    "# we see there is an imbalanced dataset. we will have to perform random upsamping or downsampling of the dataset.\n",
    "# we can also try to apply SMOTE for this dataset to see if there is any improvement on the model.\n",
    "\n",
    "print ('Negative Comments Count:')\n",
    "print (df['is_negative'].value_counts(), '\\n')\n",
    "\n",
    "print ('% Negative Comments: ')\n",
    "print (df['is_negative'].value_counts()[0] / df.shape[0] * 100)\n",
    "print (df['is_negative'].value_counts()[1] / df.shape[0] * 100)\n",
    "\n",
    "plt.figure(figsize=(8,4))\n",
    "plt.title('Negative Comments Count')\n",
    "sns.countplot(df['is_negative'])\n",
    "plt.show()"
   ]
  },
  {
   "cell_type": "code",
   "execution_count": 38,
   "metadata": {
    "ExecuteTime": {
     "end_time": "2021-03-10T05:42:45.537422Z",
     "start_time": "2021-03-10T05:42:45.050987Z"
    }
   },
   "outputs": [
    {
     "data": {
      "image/png": "[encoded data removed]",
      "text/plain": [
       "<Figure size 648x504 with 2 Axes>"
      ]
     },
     "metadata": {
      "needs_background": "light"
     },
     "output_type": "display_data"
    }
   ],
   "source": [
    "# we will see how correlated the different types of toxic comments\n",
    "# we see that insult & toxic, insult & obscence and toxic and obscence are strongly correlated\n",
    "\n",
    "corrs = df[toxic_cols].corr()\n",
    "\n",
    "fix, ax = plt.subplots(figsize=(9,7))\n",
    "\n",
    "# Generate a mask for the upper triangle (taken from Seaborn's example gallery).\n",
    "mask = np.zeros_like(corrs, dtype=np.bool)\n",
    "mask[np.triu_indices_from(mask)] = True\n",
    "\n",
    "# Plot the heatmap with Seaborn.\n",
    "# Assign the matplotlib axis the function returns. This will allow us to resize the labels.\n",
    "ax = sns.heatmap(corrs, mask=mask, ax=ax, annot=True)\n",
    "\n",
    "# Resize the labels.\n",
    "ax.set_xticklabels(ax.xaxis.get_ticklabels(), fontsize=12, rotation=45)\n",
    "ax.set_yticklabels(ax.yaxis.get_ticklabels(), fontsize=12, rotation=45)\n",
    "plt.title('Negative comments correlation heatmap')\n",
    "plt.show()"
   ]
  },
  {
   "cell_type": "markdown",
   "metadata": {},
   "source": [
    "## Feature Engineering"
   ]
  },
  {
   "cell_type": "code",
   "execution_count": 62,
   "metadata": {
    "ExecuteTime": {
     "end_time": "2021-03-10T06:03:33.660230Z",
     "start_time": "2021-03-10T06:03:33.657448Z"
    }
   },
   "outputs": [],
   "source": [
    "def get_sentence_count(x):\n",
    "    return len(sent_tokenize(x))"
   ]
  },
  {
   "cell_type": "code",
   "execution_count": 39,
   "metadata": {
    "ExecuteTime": {
     "end_time": "2021-03-10T05:43:23.650793Z",
     "start_time": "2021-03-10T05:43:21.128237Z"
    }
   },
   "outputs": [],
   "source": [
    "# does toxic comments have more sentences?\n",
    "# df['sentence_count'] = df[\"comment_text\"].apply(lambda x: len(re.findall(\"\\n\",str(x)))+1)\n",
    "df['sentence_count'] = df[\"comment_text\"].apply(get_sentence_count)\n",
    "\n",
    "# does toxic comments have longer word count?\n",
    "df['count_word'] = df[\"comment_text\"].apply(lambda x: len(str(x).split()))\n",
    "\n",
    "# does toxic comments have more unique words?\n",
    "df['count_unique_word'] = df[\"comment_text\"].apply(lambda x: len(set(str(x).split())))"
   ]
  },
  {
   "cell_type": "code",
   "execution_count": 44,
   "metadata": {
    "ExecuteTime": {
     "end_time": "2021-03-10T05:48:45.566022Z",
     "start_time": "2021-03-10T05:44:56.994815Z"
    }
   },
   "outputs": [],
   "source": [
    "analyzer = SentimentIntensityAnalyzer()\n",
    "sentiment_polarity = df['comment_text'].apply(lambda x: analyzer.polarity_scores(x))\n",
    "\n",
    "sentiment_polarity_df = pd.DataFrame(sentiment_polarity)\n",
    "sentiment_polarity_df = sentiment_polarity_df['comment_text'].apply(pd.Series)\n",
    "df = pd.concat([df, sentiment_polarity_df], axis=1)"
   ]
  },
  {
   "cell_type": "markdown",
   "metadata": {},
   "source": [
    "## Sentence Count"
   ]
  },
  {
   "cell_type": "code",
   "execution_count": 75,
   "metadata": {
    "ExecuteTime": {
     "end_time": "2021-03-10T07:20:01.709863Z",
     "start_time": "2021-03-10T07:20:00.735903Z"
    },
    "scrolled": false
   },
   "outputs": [
    {
     "name": "stdout",
     "output_type": "stream",
     "text": [
      "Min sentence count:  1\n",
      "Max sentence count:  683\n"
     ]
    },
    {
     "name": "stderr",
     "output_type": "stream",
     "text": [
      "/anaconda3/envs/personal/lib/python3.6/site-packages/seaborn/distributions.py:2557: FutureWarning: `distplot` is a deprecated function and will be removed in a future version. Please adapt your code to use either `displot` (a figure-level function with similar flexibility) or `histplot` (an axes-level function for histograms).\n",
      "  warnings.warn(msg, FutureWarning)\n"
     ]
    },
    {
     "data": {
      "image/png": "[encoded data removed]",
      "text/plain": [
       "<Figure size 720x432 with 1 Axes>"
      ]
     },
     "metadata": {
      "needs_background": "light"
     },
     "output_type": "display_data"
    },
    {
     "data": {
      "image/png": "[encoded data removed]",
      "text/plain": [
       "<Figure size 576x432 with 1 Axes>"
      ]
     },
     "metadata": {
      "needs_background": "light"
     },
     "output_type": "display_data"
    }
   ],
   "source": [
    "# looking at the number of sentence in each row\n",
    "tmp_df = df[df['sentence_count'] < 25] # change num for sentence count\n",
    "\n",
    "print ('Min sentence count: ', df['sentence_count'].min())\n",
    "print ('Max sentence count: ', df['sentence_count'].max())\n",
    "\n",
    "plt.figure(figsize=(10,6))\n",
    "sns.distplot(tmp_df['sentence_count'])#, kde=False, bins=30)\n",
    "plt.title('Distribution Plot of sentence count')\n",
    "plt.ylabel('Frequency')\n",
    "\n",
    "plt.figure(figsize=(8,6))\n",
    "sns.boxplot(x='is_negative', y='sentence_count', data=tmp_df)\n",
    "plt.title('Plot of No. of words in each comment')\n",
    "plt.xlabel('is_negative')\n",
    "plt.ylabel('No. of words')\n",
    "\n",
    "plt.show()"
   ]
  },
  {
   "cell_type": "code",
   "execution_count": 74,
   "metadata": {
    "ExecuteTime": {
     "end_time": "2021-03-10T07:18:35.063632Z",
     "start_time": "2021-03-10T07:18:35.012701Z"
    },
    "scrolled": true
   },
   "outputs": [
    {
     "data": {
      "text/html": [
       "<div>\n",
       "<style scoped>\n",
       "    .dataframe tbody tr th:only-of-type {\n",
       "        vertical-align: middle;\n",
       "    }\n",
       "\n",
       "    .dataframe tbody tr th {\n",
       "        vertical-align: top;\n",
       "    }\n",
       "\n",
       "    .dataframe thead th {\n",
       "        text-align: right;\n",
       "    }\n",
       "</style>\n",
       "<table border=\"1\" class=\"dataframe\">\n",
       "  <thead>\n",
       "    <tr style=\"text-align: right;\">\n",
       "      <th></th>\n",
       "      <th>comment_text</th>\n",
       "      <th>toxic</th>\n",
       "      <th>severe_toxic</th>\n",
       "      <th>obscene</th>\n",
       "      <th>threat</th>\n",
       "      <th>insult</th>\n",
       "      <th>identity_hate</th>\n",
       "      <th>toxic_cum_sum</th>\n",
       "      <th>is_negative</th>\n",
       "      <th>sentence_count</th>\n",
       "      <th>count_word</th>\n",
       "      <th>count_unique_word</th>\n",
       "      <th>neg</th>\n",
       "      <th>neu</th>\n",
       "      <th>pos</th>\n",
       "      <th>compound</th>\n",
       "    </tr>\n",
       "  </thead>\n",
       "  <tbody>\n",
       "    <tr>\n",
       "      <th>4712</th>\n",
       "      <td>do go fuck off bastard\\nDo Yyou Have a life?\\n...</td>\n",
       "      <td>1</td>\n",
       "      <td>1</td>\n",
       "      <td>1</td>\n",
       "      <td>1</td>\n",
       "      <td>1</td>\n",
       "      <td>0</td>\n",
       "      <td>5</td>\n",
       "      <td>1</td>\n",
       "      <td>683</td>\n",
       "      <td>1403</td>\n",
       "      <td>33</td>\n",
       "      <td>0.772</td>\n",
       "      <td>0.227</td>\n",
       "      <td>0.001</td>\n",
       "      <td>-1.0000</td>\n",
       "    </tr>\n",
       "    <tr>\n",
       "      <th>5523</th>\n",
       "      <td>Go fuck yourself! Go fuck yourself! Go fuck yo...</td>\n",
       "      <td>1</td>\n",
       "      <td>1</td>\n",
       "      <td>1</td>\n",
       "      <td>0</td>\n",
       "      <td>1</td>\n",
       "      <td>0</td>\n",
       "      <td>4</td>\n",
       "      <td>1</td>\n",
       "      <td>277</td>\n",
       "      <td>831</td>\n",
       "      <td>3</td>\n",
       "      <td>0.637</td>\n",
       "      <td>0.363</td>\n",
       "      <td>0.000</td>\n",
       "      <td>-1.0000</td>\n",
       "    </tr>\n",
       "    <tr>\n",
       "      <th>16643</th>\n",
       "      <td>'''Hi Wikipedia!!Hi Wikipedia!!Hi Wikipedia!!H...</td>\n",
       "      <td>0</td>\n",
       "      <td>0</td>\n",
       "      <td>0</td>\n",
       "      <td>0</td>\n",
       "      <td>0</td>\n",
       "      <td>0</td>\n",
       "      <td>0</td>\n",
       "      <td>0</td>\n",
       "      <td>357</td>\n",
       "      <td>358</td>\n",
       "      <td>3</td>\n",
       "      <td>0.000</td>\n",
       "      <td>1.000</td>\n",
       "      <td>0.000</td>\n",
       "      <td>0.0000</td>\n",
       "    </tr>\n",
       "    <tr>\n",
       "      <th>19179</th>\n",
       "      <td>U SUCK!!!!\\nU SUCK!!!!'U SUCK!!!!U SUCK!!!!'U ...</td>\n",
       "      <td>1</td>\n",
       "      <td>1</td>\n",
       "      <td>1</td>\n",
       "      <td>0</td>\n",
       "      <td>1</td>\n",
       "      <td>0</td>\n",
       "      <td>4</td>\n",
       "      <td>1</td>\n",
       "      <td>256</td>\n",
       "      <td>321</td>\n",
       "      <td>5</td>\n",
       "      <td>0.426</td>\n",
       "      <td>0.574</td>\n",
       "      <td>0.000</td>\n",
       "      <td>-0.9995</td>\n",
       "    </tr>\n",
       "    <tr>\n",
       "      <th>22378</th>\n",
       "      <td>I fuck niggas! I fuck niggas! I fuck niggas! I...</td>\n",
       "      <td>1</td>\n",
       "      <td>1</td>\n",
       "      <td>1</td>\n",
       "      <td>0</td>\n",
       "      <td>1</td>\n",
       "      <td>1</td>\n",
       "      <td>5</td>\n",
       "      <td>1</td>\n",
       "      <td>334</td>\n",
       "      <td>1001</td>\n",
       "      <td>4</td>\n",
       "      <td>0.854</td>\n",
       "      <td>0.146</td>\n",
       "      <td>0.000</td>\n",
       "      <td>-1.0000</td>\n",
       "    </tr>\n",
       "    <tr>\n",
       "      <th>35028</th>\n",
       "      <td>OH LAWDY.\\nOH LAWDY.\\nOH LAWDY.\\nOH LAWDY.\\nOH...</td>\n",
       "      <td>0</td>\n",
       "      <td>0</td>\n",
       "      <td>0</td>\n",
       "      <td>0</td>\n",
       "      <td>0</td>\n",
       "      <td>0</td>\n",
       "      <td>0</td>\n",
       "      <td>0</td>\n",
       "      <td>313</td>\n",
       "      <td>625</td>\n",
       "      <td>3</td>\n",
       "      <td>0.000</td>\n",
       "      <td>1.000</td>\n",
       "      <td>0.000</td>\n",
       "      <td>0.0000</td>\n",
       "    </tr>\n",
       "    <tr>\n",
       "      <th>36778</th>\n",
       "      <td>Do I know you? ==BeCauSe You aRe a FGGT!\\n Do ...</td>\n",
       "      <td>1</td>\n",
       "      <td>0</td>\n",
       "      <td>0</td>\n",
       "      <td>0</td>\n",
       "      <td>0</td>\n",
       "      <td>0</td>\n",
       "      <td>1</td>\n",
       "      <td>1</td>\n",
       "      <td>201</td>\n",
       "      <td>901</td>\n",
       "      <td>11</td>\n",
       "      <td>0.000</td>\n",
       "      <td>1.000</td>\n",
       "      <td>0.000</td>\n",
       "      <td>0.0000</td>\n",
       "    </tr>\n",
       "    <tr>\n",
       "      <th>46197</th>\n",
       "      <td>heil hitler! heil hitler! heil hitler! heil hi...</td>\n",
       "      <td>1</td>\n",
       "      <td>0</td>\n",
       "      <td>0</td>\n",
       "      <td>0</td>\n",
       "      <td>0</td>\n",
       "      <td>0</td>\n",
       "      <td>1</td>\n",
       "      <td>1</td>\n",
       "      <td>385</td>\n",
       "      <td>770</td>\n",
       "      <td>3</td>\n",
       "      <td>0.000</td>\n",
       "      <td>1.000</td>\n",
       "      <td>0.000</td>\n",
       "      <td>0.0000</td>\n",
       "    </tr>\n",
       "    <tr>\n",
       "      <th>47604</th>\n",
       "      <td>\"\\n\\n   \\nMONGO, tell us. WHY DID YOU DO WTC? ...</td>\n",
       "      <td>1</td>\n",
       "      <td>0</td>\n",
       "      <td>0</td>\n",
       "      <td>0</td>\n",
       "      <td>0</td>\n",
       "      <td>0</td>\n",
       "      <td>1</td>\n",
       "      <td>1</td>\n",
       "      <td>253</td>\n",
       "      <td>844</td>\n",
       "      <td>18</td>\n",
       "      <td>0.000</td>\n",
       "      <td>1.000</td>\n",
       "      <td>0.000</td>\n",
       "      <td>0.0000</td>\n",
       "    </tr>\n",
       "    <tr>\n",
       "      <th>51399</th>\n",
       "      <td>I am a homo sexual.  I am a homo sexual.  I am...</td>\n",
       "      <td>1</td>\n",
       "      <td>0</td>\n",
       "      <td>0</td>\n",
       "      <td>0</td>\n",
       "      <td>0</td>\n",
       "      <td>0</td>\n",
       "      <td>1</td>\n",
       "      <td>1</td>\n",
       "      <td>238</td>\n",
       "      <td>1188</td>\n",
       "      <td>5</td>\n",
       "      <td>0.000</td>\n",
       "      <td>1.000</td>\n",
       "      <td>0.000</td>\n",
       "      <td>0.0000</td>\n",
       "    </tr>\n",
       "    <tr>\n",
       "      <th>53408</th>\n",
       "      <td>BunkSteve is gay! BunkSteve is gay! BunkSteve ...</td>\n",
       "      <td>1</td>\n",
       "      <td>1</td>\n",
       "      <td>0</td>\n",
       "      <td>0</td>\n",
       "      <td>1</td>\n",
       "      <td>1</td>\n",
       "      <td>4</td>\n",
       "      <td>1</td>\n",
       "      <td>278</td>\n",
       "      <td>834</td>\n",
       "      <td>4</td>\n",
       "      <td>0.000</td>\n",
       "      <td>1.000</td>\n",
       "      <td>0.000</td>\n",
       "      <td>0.0000</td>\n",
       "    </tr>\n",
       "    <tr>\n",
       "      <th>53530</th>\n",
       "      <td>'''Fuck You! Fuck You! Fuck You! Fuck You! Fuc...</td>\n",
       "      <td>1</td>\n",
       "      <td>1</td>\n",
       "      <td>1</td>\n",
       "      <td>0</td>\n",
       "      <td>0</td>\n",
       "      <td>0</td>\n",
       "      <td>3</td>\n",
       "      <td>1</td>\n",
       "      <td>499</td>\n",
       "      <td>997</td>\n",
       "      <td>4</td>\n",
       "      <td>0.778</td>\n",
       "      <td>0.222</td>\n",
       "      <td>0.000</td>\n",
       "      <td>-1.0000</td>\n",
       "    </tr>\n",
       "    <tr>\n",
       "      <th>56154</th>\n",
       "      <td>poop. poop. poop. poop. poop. poop. poop. poop...</td>\n",
       "      <td>1</td>\n",
       "      <td>0</td>\n",
       "      <td>1</td>\n",
       "      <td>0</td>\n",
       "      <td>0</td>\n",
       "      <td>0</td>\n",
       "      <td>2</td>\n",
       "      <td>1</td>\n",
       "      <td>439</td>\n",
       "      <td>439</td>\n",
       "      <td>1</td>\n",
       "      <td>0.000</td>\n",
       "      <td>1.000</td>\n",
       "      <td>0.000</td>\n",
       "      <td>0.0000</td>\n",
       "    </tr>\n",
       "    <tr>\n",
       "      <th>56944</th>\n",
       "      <td>WIKIPEDIA LOVES ME. THEY LIKE TO CENSOR ME. CO...</td>\n",
       "      <td>1</td>\n",
       "      <td>1</td>\n",
       "      <td>0</td>\n",
       "      <td>0</td>\n",
       "      <td>0</td>\n",
       "      <td>0</td>\n",
       "      <td>2</td>\n",
       "      <td>1</td>\n",
       "      <td>203</td>\n",
       "      <td>709</td>\n",
       "      <td>12</td>\n",
       "      <td>0.149</td>\n",
       "      <td>0.542</td>\n",
       "      <td>0.308</td>\n",
       "      <td>0.9994</td>\n",
       "    </tr>\n",
       "    <tr>\n",
       "      <th>60802</th>\n",
       "      <td>FUCK WIKIPEDIA!!! FUCK WIKIPEDIA!!! FUCK WIKIP...</td>\n",
       "      <td>1</td>\n",
       "      <td>1</td>\n",
       "      <td>1</td>\n",
       "      <td>0</td>\n",
       "      <td>0</td>\n",
       "      <td>0</td>\n",
       "      <td>3</td>\n",
       "      <td>1</td>\n",
       "      <td>208</td>\n",
       "      <td>416</td>\n",
       "      <td>4</td>\n",
       "      <td>0.778</td>\n",
       "      <td>0.222</td>\n",
       "      <td>0.000</td>\n",
       "      <td>-1.0000</td>\n",
       "    </tr>\n",
       "    <tr>\n",
       "      <th>61227</th>\n",
       "      <td>Go fuck yourself! Go fuck yourself! Go fuck yo...</td>\n",
       "      <td>1</td>\n",
       "      <td>1</td>\n",
       "      <td>1</td>\n",
       "      <td>0</td>\n",
       "      <td>1</td>\n",
       "      <td>0</td>\n",
       "      <td>4</td>\n",
       "      <td>1</td>\n",
       "      <td>278</td>\n",
       "      <td>834</td>\n",
       "      <td>4</td>\n",
       "      <td>0.637</td>\n",
       "      <td>0.363</td>\n",
       "      <td>0.000</td>\n",
       "      <td>-1.0000</td>\n",
       "    </tr>\n",
       "    <tr>\n",
       "      <th>65990</th>\n",
       "      <td>FUCK YOU!!'FUCK YOU!!'FUCK YOU!!'FUCK YOU!!'FU...</td>\n",
       "      <td>1</td>\n",
       "      <td>1</td>\n",
       "      <td>1</td>\n",
       "      <td>0</td>\n",
       "      <td>1</td>\n",
       "      <td>0</td>\n",
       "      <td>4</td>\n",
       "      <td>1</td>\n",
       "      <td>313</td>\n",
       "      <td>314</td>\n",
       "      <td>3</td>\n",
       "      <td>0.015</td>\n",
       "      <td>0.985</td>\n",
       "      <td>0.000</td>\n",
       "      <td>-0.6876</td>\n",
       "    </tr>\n",
       "    <tr>\n",
       "      <th>77205</th>\n",
       "      <td>Yo \\n\\nFUCK YOU BITCH!!FUCK YOU BITCH!!FUCK YO...</td>\n",
       "      <td>1</td>\n",
       "      <td>1</td>\n",
       "      <td>1</td>\n",
       "      <td>0</td>\n",
       "      <td>1</td>\n",
       "      <td>0</td>\n",
       "      <td>4</td>\n",
       "      <td>1</td>\n",
       "      <td>311</td>\n",
       "      <td>622</td>\n",
       "      <td>4</td>\n",
       "      <td>0.009</td>\n",
       "      <td>0.991</td>\n",
       "      <td>0.000</td>\n",
       "      <td>-0.7507</td>\n",
       "    </tr>\n",
       "    <tr>\n",
       "      <th>94644</th>\n",
       "      <td>ACCESS DENEID!! \\n\\nACCESS DENEID!!ACCESS DENE...</td>\n",
       "      <td>0</td>\n",
       "      <td>0</td>\n",
       "      <td>0</td>\n",
       "      <td>0</td>\n",
       "      <td>0</td>\n",
       "      <td>0</td>\n",
       "      <td>0</td>\n",
       "      <td>0</td>\n",
       "      <td>332</td>\n",
       "      <td>333</td>\n",
       "      <td>4</td>\n",
       "      <td>0.000</td>\n",
       "      <td>1.000</td>\n",
       "      <td>0.000</td>\n",
       "      <td>0.0000</td>\n",
       "    </tr>\n",
       "    <tr>\n",
       "      <th>97811</th>\n",
       "      <td>SHUT THE FUCK UP!\\nSHUT THE FUCK UP!\\nSHUT THE...</td>\n",
       "      <td>1</td>\n",
       "      <td>1</td>\n",
       "      <td>1</td>\n",
       "      <td>0</td>\n",
       "      <td>0</td>\n",
       "      <td>0</td>\n",
       "      <td>3</td>\n",
       "      <td>1</td>\n",
       "      <td>209</td>\n",
       "      <td>834</td>\n",
       "      <td>4</td>\n",
       "      <td>0.538</td>\n",
       "      <td>0.462</td>\n",
       "      <td>0.000</td>\n",
       "      <td>-1.0000</td>\n",
       "    </tr>\n",
       "    <tr>\n",
       "      <th>132485</th>\n",
       "      <td>Do I know you? ==BeCauSe You aRe a FGGT! == Do...</td>\n",
       "      <td>1</td>\n",
       "      <td>0</td>\n",
       "      <td>1</td>\n",
       "      <td>0</td>\n",
       "      <td>1</td>\n",
       "      <td>0</td>\n",
       "      <td>3</td>\n",
       "      <td>1</td>\n",
       "      <td>228</td>\n",
       "      <td>1135</td>\n",
       "      <td>11</td>\n",
       "      <td>0.000</td>\n",
       "      <td>1.000</td>\n",
       "      <td>0.000</td>\n",
       "      <td>0.0000</td>\n",
       "    </tr>\n",
       "    <tr>\n",
       "      <th>133254</th>\n",
       "      <td>FUCK YOU ALL!!  FUCK YOU ALL!!  FUCK YOU ALL!!...</td>\n",
       "      <td>1</td>\n",
       "      <td>1</td>\n",
       "      <td>1</td>\n",
       "      <td>0</td>\n",
       "      <td>1</td>\n",
       "      <td>0</td>\n",
       "      <td>4</td>\n",
       "      <td>1</td>\n",
       "      <td>313</td>\n",
       "      <td>938</td>\n",
       "      <td>3</td>\n",
       "      <td>0.637</td>\n",
       "      <td>0.363</td>\n",
       "      <td>0.000</td>\n",
       "      <td>-1.0000</td>\n",
       "    </tr>\n",
       "    <tr>\n",
       "      <th>143842</th>\n",
       "      <td>\"   \\nMONGO, tell us. WHY DID YOU DO WTC? Why ...</td>\n",
       "      <td>0</td>\n",
       "      <td>0</td>\n",
       "      <td>0</td>\n",
       "      <td>0</td>\n",
       "      <td>0</td>\n",
       "      <td>0</td>\n",
       "      <td>0</td>\n",
       "      <td>0</td>\n",
       "      <td>254</td>\n",
       "      <td>848</td>\n",
       "      <td>18</td>\n",
       "      <td>0.000</td>\n",
       "      <td>1.000</td>\n",
       "      <td>0.000</td>\n",
       "      <td>0.0000</td>\n",
       "    </tr>\n",
       "    <tr>\n",
       "      <th>144914</th>\n",
       "      <td>Being original hasn't ever been my strong suit...</td>\n",
       "      <td>1</td>\n",
       "      <td>1</td>\n",
       "      <td>1</td>\n",
       "      <td>0</td>\n",
       "      <td>1</td>\n",
       "      <td>0</td>\n",
       "      <td>4</td>\n",
       "      <td>1</td>\n",
       "      <td>265</td>\n",
       "      <td>810</td>\n",
       "      <td>18</td>\n",
       "      <td>0.630</td>\n",
       "      <td>0.366</td>\n",
       "      <td>0.004</td>\n",
       "      <td>-1.0000</td>\n",
       "    </tr>\n",
       "    <tr>\n",
       "      <th>158970</th>\n",
       "      <td>Hi Wikipedia!!Hi Wikipedia!!Hi Wikipedia!!Hi W...</td>\n",
       "      <td>0</td>\n",
       "      <td>0</td>\n",
       "      <td>0</td>\n",
       "      <td>0</td>\n",
       "      <td>0</td>\n",
       "      <td>0</td>\n",
       "      <td>0</td>\n",
       "      <td>0</td>\n",
       "      <td>358</td>\n",
       "      <td>358</td>\n",
       "      <td>2</td>\n",
       "      <td>0.000</td>\n",
       "      <td>1.000</td>\n",
       "      <td>0.000</td>\n",
       "      <td>0.0000</td>\n",
       "    </tr>\n",
       "  </tbody>\n",
       "</table>\n",
       "</div>"
      ],
      "text/plain": [
       "                                             comment_text  toxic  \\\n",
       "4712    do go fuck off bastard\\nDo Yyou Have a life?\\n...      1   \n",
       "5523    Go fuck yourself! Go fuck yourself! Go fuck yo...      1   \n",
       "16643   '''Hi Wikipedia!!Hi Wikipedia!!Hi Wikipedia!!H...      0   \n",
       "19179   U SUCK!!!!\\nU SUCK!!!!'U SUCK!!!!U SUCK!!!!'U ...      1   \n",
       "22378   I fuck niggas! I fuck niggas! I fuck niggas! I...      1   \n",
       "35028   OH LAWDY.\\nOH LAWDY.\\nOH LAWDY.\\nOH LAWDY.\\nOH...      0   \n",
       "36778   Do I know you? ==BeCauSe You aRe a FGGT!\\n Do ...      1   \n",
       "46197   heil hitler! heil hitler! heil hitler! heil hi...      1   \n",
       "47604   \"\\n\\n   \\nMONGO, tell us. WHY DID YOU DO WTC? ...      1   \n",
       "51399   I am a homo sexual.  I am a homo sexual.  I am...      1   \n",
       "53408   BunkSteve is gay! BunkSteve is gay! BunkSteve ...      1   \n",
       "53530   '''Fuck You! Fuck You! Fuck You! Fuck You! Fuc...      1   \n",
       "56154   poop. poop. poop. poop. poop. poop. poop. poop...      1   \n",
       "56944   WIKIPEDIA LOVES ME. THEY LIKE TO CENSOR ME. CO...      1   \n",
       "60802   FUCK WIKIPEDIA!!! FUCK WIKIPEDIA!!! FUCK WIKIP...      1   \n",
       "61227   Go fuck yourself! Go fuck yourself! Go fuck yo...      1   \n",
       "65990   FUCK YOU!!'FUCK YOU!!'FUCK YOU!!'FUCK YOU!!'FU...      1   \n",
       "77205   Yo \\n\\nFUCK YOU BITCH!!FUCK YOU BITCH!!FUCK YO...      1   \n",
       "94644   ACCESS DENEID!! \\n\\nACCESS DENEID!!ACCESS DENE...      0   \n",
       "97811   SHUT THE FUCK UP!\\nSHUT THE FUCK UP!\\nSHUT THE...      1   \n",
       "132485  Do I know you? ==BeCauSe You aRe a FGGT! == Do...      1   \n",
       "133254  FUCK YOU ALL!!  FUCK YOU ALL!!  FUCK YOU ALL!!...      1   \n",
       "143842  \"   \\nMONGO, tell us. WHY DID YOU DO WTC? Why ...      0   \n",
       "144914  Being original hasn't ever been my strong suit...      1   \n",
       "158970  Hi Wikipedia!!Hi Wikipedia!!Hi Wikipedia!!Hi W...      0   \n",
       "\n",
       "        severe_toxic  obscene  threat  insult  identity_hate  toxic_cum_sum  \\\n",
       "4712               1        1       1       1              0              5   \n",
       "5523               1        1       0       1              0              4   \n",
       "16643              0        0       0       0              0              0   \n",
       "19179              1        1       0       1              0              4   \n",
       "22378              1        1       0       1              1              5   \n",
       "35028              0        0       0       0              0              0   \n",
       "36778              0        0       0       0              0              1   \n",
       "46197              0        0       0       0              0              1   \n",
       "47604              0        0       0       0              0              1   \n",
       "51399              0        0       0       0              0              1   \n",
       "53408              1        0       0       1              1              4   \n",
       "53530              1        1       0       0              0              3   \n",
       "56154              0        1       0       0              0              2   \n",
       "56944              1        0       0       0              0              2   \n",
       "60802              1        1       0       0              0              3   \n",
       "61227              1        1       0       1              0              4   \n",
       "65990              1        1       0       1              0              4   \n",
       "77205              1        1       0       1              0              4   \n",
       "94644              0        0       0       0              0              0   \n",
       "97811              1        1       0       0              0              3   \n",
       "132485             0        1       0       1              0              3   \n",
       "133254             1        1       0       1              0              4   \n",
       "143842             0        0       0       0              0              0   \n",
       "144914             1        1       0       1              0              4   \n",
       "158970             0        0       0       0              0              0   \n",
       "\n",
       "        is_negative  sentence_count  count_word  count_unique_word    neg  \\\n",
       "4712              1             683        1403                 33  0.772   \n",
       "5523              1             277         831                  3  0.637   \n",
       "16643             0             357         358                  3  0.000   \n",
       "19179             1             256         321                  5  0.426   \n",
       "22378             1             334        1001                  4  0.854   \n",
       "35028             0             313         625                  3  0.000   \n",
       "36778             1             201         901                 11  0.000   \n",
       "46197             1             385         770                  3  0.000   \n",
       "47604             1             253         844                 18  0.000   \n",
       "51399             1             238        1188                  5  0.000   \n",
       "53408             1             278         834                  4  0.000   \n",
       "53530             1             499         997                  4  0.778   \n",
       "56154             1             439         439                  1  0.000   \n",
       "56944             1             203         709                 12  0.149   \n",
       "60802             1             208         416                  4  0.778   \n",
       "61227             1             278         834                  4  0.637   \n",
       "65990             1             313         314                  3  0.015   \n",
       "77205             1             311         622                  4  0.009   \n",
       "94644             0             332         333                  4  0.000   \n",
       "97811             1             209         834                  4  0.538   \n",
       "132485            1             228        1135                 11  0.000   \n",
       "133254            1             313         938                  3  0.637   \n",
       "143842            0             254         848                 18  0.000   \n",
       "144914            1             265         810                 18  0.630   \n",
       "158970            0             358         358                  2  0.000   \n",
       "\n",
       "          neu    pos  compound  \n",
       "4712    0.227  0.001   -1.0000  \n",
       "5523    0.363  0.000   -1.0000  \n",
       "16643   1.000  0.000    0.0000  \n",
       "19179   0.574  0.000   -0.9995  \n",
       "22378   0.146  0.000   -1.0000  \n",
       "35028   1.000  0.000    0.0000  \n",
       "36778   1.000  0.000    0.0000  \n",
       "46197   1.000  0.000    0.0000  \n",
       "47604   1.000  0.000    0.0000  \n",
       "51399   1.000  0.000    0.0000  \n",
       "53408   1.000  0.000    0.0000  \n",
       "53530   0.222  0.000   -1.0000  \n",
       "56154   1.000  0.000    0.0000  \n",
       "56944   0.542  0.308    0.9994  \n",
       "60802   0.222  0.000   -1.0000  \n",
       "61227   0.363  0.000   -1.0000  \n",
       "65990   0.985  0.000   -0.6876  \n",
       "77205   0.991  0.000   -0.7507  \n",
       "94644   1.000  0.000    0.0000  \n",
       "97811   0.462  0.000   -1.0000  \n",
       "132485  1.000  0.000    0.0000  \n",
       "133254  0.363  0.000   -1.0000  \n",
       "143842  1.000  0.000    0.0000  \n",
       "144914  0.366  0.004   -1.0000  \n",
       "158970  1.000  0.000    0.0000  "
      ]
     },
     "execution_count": 74,
     "metadata": {},
     "output_type": "execute_result"
    }
   ],
   "source": [
    "df[df['sentence_count'] > 200]"
   ]
  },
  {
   "cell_type": "markdown",
   "metadata": {},
   "source": [
    "It seems that negative comments have lower sentences. Comments that have high number of sentences (>200) tend to be spams or negative comments."
   ]
  },
  {
   "cell_type": "code",
   "execution_count": null,
   "metadata": {},
   "outputs": [],
   "source": []
  },
  {
   "cell_type": "markdown",
   "metadata": {},
   "source": [
    "## Word count"
   ]
  },
  {
   "cell_type": "code",
   "execution_count": 83,
   "metadata": {
    "ExecuteTime": {
     "end_time": "2021-03-10T07:38:38.406713Z",
     "start_time": "2021-03-10T07:38:38.374680Z"
    }
   },
   "outputs": [
    {
     "name": "stdout",
     "output_type": "stream",
     "text": [
      "Min word count:  1\n",
      "Max word count:  1411\n"
     ]
    }
   ],
   "source": [
    "tmp_df = df[df['count_word'] >= 0] # change num for sentence count\n",
    "\n",
    "print ('Min word count: ', df['count_word'].min())\n",
    "print ('Max word count: ', df['count_word'].max())"
   ]
  },
  {
   "cell_type": "code",
   "execution_count": 84,
   "metadata": {
    "ExecuteTime": {
     "end_time": "2021-03-10T07:38:39.438354Z",
     "start_time": "2021-03-10T07:38:38.908825Z"
    }
   },
   "outputs": [
    {
     "name": "stderr",
     "output_type": "stream",
     "text": [
      "/anaconda3/envs/personal/lib/python3.6/site-packages/seaborn/distributions.py:2557: FutureWarning: `distplot` is a deprecated function and will be removed in a future version. Please adapt your code to use either `displot` (a figure-level function with similar flexibility) or `histplot` (an axes-level function for histograms).\n",
      "  warnings.warn(msg, FutureWarning)\n"
     ]
    },
    {
     "data": {
      "image/png": "[encoded data removed]",
      "text/plain": [
       "<Figure size 720x432 with 1 Axes>"
      ]
     },
     "metadata": {
      "needs_background": "light"
     },
     "output_type": "display_data"
    }
   ],
   "source": [
    "plt.figure(figsize=(10,6))\n",
    "sns.distplot(tmp_df['sentence_count'])#, kde=False, bins=30)\n",
    "plt.title('Distribution Plot of sentence count')\n",
    "plt.ylabel('Frequency')\n",
    "plt.show()"
   ]
  },
  {
   "cell_type": "code",
   "execution_count": 85,
   "metadata": {
    "ExecuteTime": {
     "end_time": "2021-03-10T07:38:41.662414Z",
     "start_time": "2021-03-10T07:38:41.472178Z"
    }
   },
   "outputs": [
    {
     "data": {
      "image/png": "[encoded data removed]",
      "text/plain": [
       "<Figure size 576x432 with 1 Axes>"
      ]
     },
     "metadata": {
      "needs_background": "light"
     },
     "output_type": "display_data"
    }
   ],
   "source": [
    "plt.figure(figsize=(8,6))\n",
    "sns.boxplot(x='is_negative', y='count_word', data=tmp_df)\n",
    "plt.title('Plot of No. of words in each comment')\n",
    "plt.xlabel('is_negative')\n",
    "plt.ylabel('No. of words')\n",
    "plt.show()"
   ]
  },
  {
   "cell_type": "code",
   "execution_count": 150,
   "metadata": {
    "ExecuteTime": {
     "end_time": "2021-03-11T03:37:49.193955Z",
     "start_time": "2021-03-11T03:37:48.645545Z"
    }
   },
   "outputs": [
    {
     "data": {
      "image/png": "[encoded data removed]",
      "text/plain": [
       "<Figure size 720x288 with 1 Axes>"
      ]
     },
     "metadata": {
      "needs_background": "light"
     },
     "output_type": "display_data"
    }
   ],
   "source": [
    "plt.figure(figsize=(10,4))\n",
    "ax = sns.kdeplot(df[df['is_negative'] == 0].count_word, color='b', label='0')\n",
    "ax = sns.kdeplot(df[df['is_negative'] == 1].count_word, color='r', label='1')\n",
    "plt.title('Plot of word counts')\n",
    "plt.legend()\n",
    "plt.show()"
   ]
  },
  {
   "cell_type": "code",
   "execution_count": 88,
   "metadata": {
    "ExecuteTime": {
     "end_time": "2021-03-10T07:40:06.303386Z",
     "start_time": "2021-03-10T07:40:06.256947Z"
    },
    "scrolled": false
   },
   "outputs": [
    {
     "name": "stdout",
     "output_type": "stream",
     "text": [
      "toxic:\n",
      "54995                            Hi! \\n\\nI wanna rape you!\n",
      "22018    Terrorize \\nI will terrorise you for as long a...\n",
      "Name: comment_text, dtype: object \n",
      "\n",
      "severe_toxic:\n",
      "90354     \"\\n\\n WHAT  IN THE FUCK ARE YOU REFERRING TOO ...\n",
      "113229    takes it up the arse.  takes it up the arse.  ...\n",
      "Name: comment_text, dtype: object \n",
      "\n",
      "obscene:\n",
      "113629    You are an utter fucking faggot...u need a lif...\n",
      "14153     WTF! \\n\\nu fckin faggot ass mutha fcker u jus ...\n",
      "Name: comment_text, dtype: object \n",
      "\n",
      "threat:\n",
      "157361    if you do not stop, the wikapidea nijas will c...\n",
      "11199     Fuck you Sarcasticidealist i will kill you wit...\n",
      "Name: comment_text, dtype: object \n",
      "\n",
      "insult:\n",
      "27944      FUCK YOU ALL, LOSERS \\n\\nFUCK OFF MY PAGE, FAGS\n",
      "32879    What are you retarded? I already am blocked. W...\n",
      "Name: comment_text, dtype: object \n",
      "\n",
      "identity_hate:\n",
      "124316                REDIRECT Talk:Bolivian chinchilla rat\n",
      "57276     TO SITUSH(PAKISTANI  PIG) \\n\\nWhat  is your pr...\n",
      "Name: comment_text, dtype: object \n",
      "\n"
     ]
    }
   ],
   "source": [
    "classifications = df.columns.values[1:7]\n",
    "\n",
    "for classification in classifications:\n",
    "    print ('{}:'.format(classification))\n",
    "    print (df[df[classification] == 1]['comment_text'].sample(2, random_state=42), '\\n')"
   ]
  },
  {
   "cell_type": "markdown",
   "metadata": {},
   "source": [
    "## Unique word count"
   ]
  },
  {
   "cell_type": "code",
   "execution_count": 131,
   "metadata": {
    "ExecuteTime": {
     "end_time": "2021-03-11T03:15:55.842384Z",
     "start_time": "2021-03-11T03:15:55.295942Z"
    }
   },
   "outputs": [
    {
     "name": "stdout",
     "output_type": "stream",
     "text": [
      "Min word count:  1\n",
      "Max word count:  816\n"
     ]
    }
   ],
   "source": [
    "tmp_df = df[df['count_unique_word'] >= 0] # change num for sentence count\n",
    "\n",
    "print ('Min word count: ', df['count_unique_word'].min())\n",
    "print ('Max word count: ', df['count_unique_word'].max())"
   ]
  },
  {
   "cell_type": "code",
   "execution_count": 132,
   "metadata": {
    "ExecuteTime": {
     "end_time": "2021-03-11T03:15:56.654161Z",
     "start_time": "2021-03-11T03:15:55.845735Z"
    }
   },
   "outputs": [
    {
     "name": "stderr",
     "output_type": "stream",
     "text": [
      "/anaconda3/envs/personal/lib/python3.6/site-packages/seaborn/distributions.py:2557: FutureWarning: `distplot` is a deprecated function and will be removed in a future version. Please adapt your code to use either `displot` (a figure-level function with similar flexibility) or `histplot` (an axes-level function for histograms).\n",
      "  warnings.warn(msg, FutureWarning)\n"
     ]
    },
    {
     "data": {
      "image/png": "[encoded data removed]",
      "text/plain": [
       "<Figure size 720x432 with 1 Axes>"
      ]
     },
     "metadata": {
      "needs_background": "light"
     },
     "output_type": "display_data"
    }
   ],
   "source": [
    "plt.figure(figsize=(10,6))\n",
    "sns.distplot(tmp_df['count_unique_word'])#, kde=False, bins=30)\n",
    "plt.title('Distribution Plot of sentence count')\n",
    "plt.ylabel('Frequency')\n",
    "plt.show()"
   ]
  },
  {
   "cell_type": "code",
   "execution_count": 133,
   "metadata": {
    "ExecuteTime": {
     "end_time": "2021-03-11T03:15:56.853220Z",
     "start_time": "2021-03-11T03:15:56.655718Z"
    }
   },
   "outputs": [
    {
     "data": {
      "image/png": "[encoded data removed]",
      "text/plain": [
       "<Figure size 576x432 with 1 Axes>"
      ]
     },
     "metadata": {
      "needs_background": "light"
     },
     "output_type": "display_data"
    }
   ],
   "source": [
    "plt.figure(figsize=(8,6))\n",
    "sns.boxplot(x='is_negative', y='count_unique_word', data=tmp_df)\n",
    "plt.title('Plot of No. of unqiue words in each comment')\n",
    "plt.xlabel('is_negative')\n",
    "plt.ylabel('No. of unique words')\n",
    "plt.show()"
   ]
  },
  {
   "cell_type": "code",
   "execution_count": 135,
   "metadata": {
    "ExecuteTime": {
     "end_time": "2021-03-11T03:16:55.630316Z",
     "start_time": "2021-03-11T03:16:55.091273Z"
    }
   },
   "outputs": [
    {
     "data": {
      "image/png": "[encoded data removed]",
      "text/plain": [
       "<Figure size 720x288 with 1 Axes>"
      ]
     },
     "metadata": {
      "needs_background": "light"
     },
     "output_type": "display_data"
    }
   ],
   "source": [
    "plt.figure(figsize=(10,4))\n",
    "ax = sns.kdeplot(df[df['is_negative'] == 0].count_unique_word, color='b', label='0')\n",
    "ax = sns.kdeplot(df[df['is_negative'] == 1].count_unique_word, color='r', label='1')\n",
    "plt.title('Plot of unique word counts')\n",
    "plt.legend()\n",
    "plt.show()"
   ]
  },
  {
   "cell_type": "code",
   "execution_count": null,
   "metadata": {},
   "outputs": [],
   "source": []
  },
  {
   "cell_type": "markdown",
   "metadata": {},
   "source": [
    "## Clean the comments column"
   ]
  },
  {
   "cell_type": "code",
   "execution_count": 112,
   "metadata": {
    "ExecuteTime": {
     "end_time": "2021-03-11T02:48:20.754833Z",
     "start_time": "2021-03-11T02:48:20.748768Z"
    }
   },
   "outputs": [
    {
     "data": {
      "text/plain": [
       "\"D'aww! He matches this background colour I'm seemingly stuck with. Thanks.  (talk) 21:51, January 11, 2016 (UTC)\""
      ]
     },
     "execution_count": 112,
     "metadata": {},
     "output_type": "execute_result"
    }
   ],
   "source": [
    "df['comment_text'][1]\n",
    "\n",
    "# we see there are '\\n' in the comments below. we will need to replace any \\n or \\r or \\t with ' '.\n",
    "# we will also change encoding to ascii encoding and decode"
   ]
  },
  {
   "cell_type": "code",
   "execution_count": 90,
   "metadata": {
    "ExecuteTime": {
     "end_time": "2021-03-10T07:40:33.794083Z",
     "start_time": "2021-03-10T07:40:33.297141Z"
    }
   },
   "outputs": [],
   "source": [
    "df['comment_text_clean'] = df['comment_text'].apply(lambda x: x.replace('\\r', ' ').replace('\\n', ' ').replace('\\t', ' ')\n",
    "                                              .replace(\"'\", \"\").replace(\",\", \"\").encode('ascii', errors='ignore')\n",
    "                                              .decode())# if type(x) is str else x)\n",
    "\n",
    "# df['comment_text'] = df['comment_text'].apply(lambda x: ' '.join(x.split()))"
   ]
  },
  {
   "cell_type": "markdown",
   "metadata": {},
   "source": [
    "## Tokenize comments"
   ]
  },
  {
   "cell_type": "code",
   "execution_count": 213,
   "metadata": {
    "ExecuteTime": {
     "end_time": "2021-03-11T04:26:49.375267Z",
     "start_time": "2021-03-11T04:26:49.370875Z"
    }
   },
   "outputs": [],
   "source": [
    "from nltk.stem import WordNetLemmatizer"
   ]
  },
  {
   "cell_type": "code",
   "execution_count": 216,
   "metadata": {
    "ExecuteTime": {
     "end_time": "2021-03-11T04:27:37.512614Z",
     "start_time": "2021-03-11T04:27:37.508539Z"
    }
   },
   "outputs": [
    {
     "data": {
      "text/plain": [
       "'Explanation'"
      ]
     },
     "execution_count": 216,
     "metadata": {},
     "output_type": "execute_result"
    }
   ],
   "source": [
    "\n",
    "lemmatizer.lemmatize(df['comment_text_clean'].iloc[0].split()[0])"
   ]
  },
  {
   "cell_type": "code",
   "execution_count": 217,
   "metadata": {
    "ExecuteTime": {
     "end_time": "2021-03-11T04:28:21.391172Z",
     "start_time": "2021-03-11T04:28:21.382611Z"
    }
   },
   "outputs": [],
   "source": [
    "def get_tok_clean_comments(df, add_stopwords=None):\n",
    "    tok_clean_comments = []\n",
    "    if add_stopwords is None:\n",
    "        stop_words = set(stopwords.words('english'))\n",
    "    elif type(add_stopwords) == list:\n",
    "        for i in add_stopwords:\n",
    "            stop_words.add(i)\n",
    "    else:\n",
    "        raise Exception('Unknown input. Please check.')\n",
    "        \n",
    "    lemmatizer = WordNetLemmatizer()\n",
    "    for i in range(df.shape[0]):\n",
    "        comments = word_tokenize(df.loc[i, 'comment_text_clean'])\n",
    "        tok_clean_comments.append([lemmatizer.lemmatize(w.lower()) for w in comments \\\n",
    "                                   if w.isalpha() and w.lower() not in stop_words])\n",
    "    return tok_clean_comments\n",
    "\n",
    "\n",
    "def get_word_count(comment):\n",
    "    word_count = {}\n",
    "    for word in comment:\n",
    "        if word in word_count.keys():\n",
    "            word_count[word] += 1\n",
    "        else:\n",
    "            word_count[word] = 1\n",
    "    return word_count"
   ]
  },
  {
   "cell_type": "code",
   "execution_count": 218,
   "metadata": {
    "ExecuteTime": {
     "end_time": "2021-03-11T04:30:12.987650Z",
     "start_time": "2021-03-11T04:28:24.203714Z"
    }
   },
   "outputs": [],
   "source": [
    "df['tok_clean_comments'] = get_tok_clean_comments(df)"
   ]
  },
  {
   "cell_type": "code",
   "execution_count": 157,
   "metadata": {
    "ExecuteTime": {
     "end_time": "2021-03-11T03:42:57.973488Z",
     "start_time": "2021-03-11T03:42:56.769010Z"
    }
   },
   "outputs": [],
   "source": [
    "# df['word_count'] = df['tok_clean_comments'].apply(get_word_count)"
   ]
  },
  {
   "cell_type": "code",
   "execution_count": 219,
   "metadata": {
    "ExecuteTime": {
     "end_time": "2021-03-11T04:40:53.472722Z",
     "start_time": "2021-03-11T04:40:53.467755Z"
    }
   },
   "outputs": [],
   "source": [
    "def get_top_n_words(df, label):\n",
    "    word_count = {}\n",
    "    tmp_df = df[df[label] == 1]\n",
    "    for i in range(len(tmp_df)):\n",
    "        comments = tmp_df['tok_clean_comments'].iloc[i]\n",
    "        for word in comments:\n",
    "            if word in word_count.keys():\n",
    "                word_count[word] += 1\n",
    "            else:\n",
    "                word_count[word] = 1\n",
    "    tmp_df = pd.DataFrame.from_dict(word_count, orient='index', columns=['word_count'])\n",
    "    return tmp_df.sort_values('word_count', ascending=False)"
   ]
  },
  {
   "cell_type": "code",
   "execution_count": 221,
   "metadata": {
    "ExecuteTime": {
     "end_time": "2021-03-11T04:40:59.028742Z",
     "start_time": "2021-03-11T04:40:58.375491Z"
    }
   },
   "outputs": [],
   "source": [
    "n_toxic = get_top_n_words(df, 'toxic').reset_index()\n",
    "n_severe_toxic = get_top_n_words(df, 'severe_toxic').reset_index()\n",
    "n_obscene = get_top_n_words(df, 'obscene').reset_index()\n",
    "n_threat = get_top_n_words(df, 'threat').reset_index()\n",
    "n_insult = get_top_n_words(df, 'insult').reset_index()\n",
    "n_identity_hate = get_top_n_words(df, 'identity_hate').reset_index()\n",
    "\n",
    "all_neg = {'toxic': n_toxic,\n",
    "           'severe_toxic': n_severe_toxic,\n",
    "           'obscene': n_obscene,\n",
    "           'threat': n_threat,\n",
    "           'insult': n_insult,\n",
    "           'identity_hate': n_identity_hate\n",
    "          }"
   ]
  },
  {
   "cell_type": "code",
   "execution_count": 222,
   "metadata": {
    "ExecuteTime": {
     "end_time": "2021-03-11T04:40:59.575668Z",
     "start_time": "2021-03-11T04:40:59.570683Z"
    }
   },
   "outputs": [],
   "source": [
    "def plot_n_words(df, figsize, label, n):\n",
    "    plt.figure(figsize=figsize)\n",
    "    sns.barplot(x='index', y='word_count', data=df.iloc[:n,:])\n",
    "    plt.xlabel(label)\n",
    "    plt.title(f'N words for {label}')\n",
    "    plt.show()"
   ]
  },
  {
   "cell_type": "markdown",
   "metadata": {},
   "source": [
    "## Top n words for each label"
   ]
  },
  {
   "cell_type": "code",
   "execution_count": 223,
   "metadata": {
    "ExecuteTime": {
     "end_time": "2021-03-11T04:41:01.534588Z",
     "start_time": "2021-03-11T04:41:00.511195Z"
    },
    "scrolled": true
   },
   "outputs": [
    {
     "data": {
      "image/png": "[encoded data removed]",
      "text/plain": [
       "<Figure size 1008x288 with 1 Axes>"
      ]
     },
     "metadata": {
      "needs_background": "light"
     },
     "output_type": "display_data"
    },
    {
     "data": {
      "image/png": "[encoded data removed]",
      "text/plain": [
       "<Figure size 1008x288 with 1 Axes>"
      ]
     },
     "metadata": {
      "needs_background": "light"
     },
     "output_type": "display_data"
    },
    {
     "data": {
      "image/png": "[encoded data removed]",
      "text/plain": [
       "<Figure size 1008x288 with 1 Axes>"
      ]
     },
     "metadata": {
      "needs_background": "light"
     },
     "output_type": "display_data"
    },
    {
     "data": {
      "image/png": "[encoded data removed]",
      "text/plain": [
       "<Figure size 1008x288 with 1 Axes>"
      ]
     },
     "metadata": {
      "needs_background": "light"
     },
     "output_type": "display_data"
    },
    {
     "data": {
      "image/png": "[encoded data removed]",
      "text/plain": [
       "<Figure size 1008x288 with 1 Axes>"
      ]
     },
     "metadata": {
      "needs_background": "light"
     },
     "output_type": "display_data"
    },
    {
     "data": {
      "image/png": "[encoded data removed]",
      "text/plain": [
       "<Figure size 1008x288 with 1 Axes>"
      ]
     },
     "metadata": {
      "needs_background": "light"
     },
     "output_type": "display_data"
    }
   ],
   "source": [
    "for k,v in all_neg.items():\n",
    "    plot_n_words(v, figsize, k, 10)"
   ]
  },
  {
   "cell_type": "markdown",
   "metadata": {},
   "source": [
    "There are some words like 'fuck' that overlap between the different labels. However, we also see words that are more related to the label. For example,:\n",
    "<br><b>identity_hate</b>: 'nigger', 'jew', 'fat'</br>\n",
    "<br><b>insult</b>: 'suck', 'nigger', 'faggot'</br>\n",
    "<br><b>threat</b>: 'die', 'kill'</br>"
   ]
  },
  {
   "cell_type": "markdown",
   "metadata": {},
   "source": [
    "## Char count"
   ]
  },
  {
   "cell_type": "code",
   "execution_count": 232,
   "metadata": {
    "ExecuteTime": {
     "end_time": "2021-03-11T08:20:38.313925Z",
     "start_time": "2021-03-11T08:20:38.299043Z"
    }
   },
   "outputs": [],
   "source": [
    "def get_char_count(x):\n",
    "    return len(x.replace(' ', ''))\n",
    "\n",
    "def get_unq_char_count(x):\n",
    "    return len(set(x.replace(' ', '')))"
   ]
  },
  {
   "cell_type": "code",
   "execution_count": 233,
   "metadata": {
    "ExecuteTime": {
     "end_time": "2021-03-11T08:20:49.348386Z",
     "start_time": "2021-03-11T08:20:47.499672Z"
    }
   },
   "outputs": [],
   "source": [
    "df['char_count'] = df['comment_text_clean'].apply(get_char_count)\n",
    "df['unq_char_count'] = df['comment_text_clean'].apply(get_unq_char_count)"
   ]
  },
  {
   "cell_type": "code",
   "execution_count": 234,
   "metadata": {
    "ExecuteTime": {
     "end_time": "2021-03-11T08:29:23.122320Z",
     "start_time": "2021-03-11T08:29:23.001084Z"
    }
   },
   "outputs": [
    {
     "data": {
      "text/html": [
       "<div>\n",
       "<style scoped>\n",
       "    .dataframe tbody tr th:only-of-type {\n",
       "        vertical-align: middle;\n",
       "    }\n",
       "\n",
       "    .dataframe tbody tr th {\n",
       "        vertical-align: top;\n",
       "    }\n",
       "\n",
       "    .dataframe thead th {\n",
       "        text-align: right;\n",
       "    }\n",
       "</style>\n",
       "<table border=\"1\" class=\"dataframe\">\n",
       "  <thead>\n",
       "    <tr style=\"text-align: right;\">\n",
       "      <th></th>\n",
       "      <th>comment_text</th>\n",
       "      <th>toxic</th>\n",
       "      <th>severe_toxic</th>\n",
       "      <th>obscene</th>\n",
       "      <th>threat</th>\n",
       "      <th>insult</th>\n",
       "      <th>identity_hate</th>\n",
       "      <th>toxic_cum_sum</th>\n",
       "      <th>is_negative</th>\n",
       "      <th>sentence_count</th>\n",
       "      <th>...</th>\n",
       "      <th>count_unique_word</th>\n",
       "      <th>neg</th>\n",
       "      <th>neu</th>\n",
       "      <th>pos</th>\n",
       "      <th>compound</th>\n",
       "      <th>comment_text_clean</th>\n",
       "      <th>tok_clean_comments</th>\n",
       "      <th>word_count</th>\n",
       "      <th>char_count</th>\n",
       "      <th>unq_char_count</th>\n",
       "    </tr>\n",
       "  </thead>\n",
       "  <tbody>\n",
       "    <tr>\n",
       "      <th>0</th>\n",
       "      <td>Explanation\\nWhy the edits made under my usern...</td>\n",
       "      <td>0</td>\n",
       "      <td>0</td>\n",
       "      <td>0</td>\n",
       "      <td>0</td>\n",
       "      <td>0</td>\n",
       "      <td>0</td>\n",
       "      <td>0</td>\n",
       "      <td>0</td>\n",
       "      <td>3</td>\n",
       "      <td>...</td>\n",
       "      <td>41</td>\n",
       "      <td>0.000</td>\n",
       "      <td>0.899</td>\n",
       "      <td>0.101</td>\n",
       "      <td>0.5574</td>\n",
       "      <td>Explanation Why the edits made under my userna...</td>\n",
       "      <td>[explanation, edits, made, username, hardcore,...</td>\n",
       "      <td>{'explanation': 1, 'why': 1, 'edits': 1, 'made...</td>\n",
       "      <td>218</td>\n",
       "      <td>45</td>\n",
       "    </tr>\n",
       "    <tr>\n",
       "      <th>1</th>\n",
       "      <td>D'aww! He matches this background colour I'm s...</td>\n",
       "      <td>0</td>\n",
       "      <td>0</td>\n",
       "      <td>0</td>\n",
       "      <td>0</td>\n",
       "      <td>0</td>\n",
       "      <td>0</td>\n",
       "      <td>0</td>\n",
       "      <td>0</td>\n",
       "      <td>4</td>\n",
       "      <td>...</td>\n",
       "      <td>17</td>\n",
       "      <td>0.099</td>\n",
       "      <td>0.743</td>\n",
       "      <td>0.158</td>\n",
       "      <td>0.2942</td>\n",
       "      <td>Daww! He matches this background colour Im see...</td>\n",
       "      <td>[daww, match, background, colour, im, seemingl...</td>\n",
       "      <td>{'daww': 1, 'he': 1, 'matches': 1, 'background...</td>\n",
       "      <td>91</td>\n",
       "      <td>36</td>\n",
       "    </tr>\n",
       "    <tr>\n",
       "      <th>2</th>\n",
       "      <td>Hey man, I'm really not trying to edit war. It...</td>\n",
       "      <td>0</td>\n",
       "      <td>0</td>\n",
       "      <td>0</td>\n",
       "      <td>0</td>\n",
       "      <td>0</td>\n",
       "      <td>0</td>\n",
       "      <td>0</td>\n",
       "      <td>0</td>\n",
       "      <td>3</td>\n",
       "      <td>...</td>\n",
       "      <td>39</td>\n",
       "      <td>0.083</td>\n",
       "      <td>0.849</td>\n",
       "      <td>0.068</td>\n",
       "      <td>-0.1779</td>\n",
       "      <td>Hey man Im really not trying to edit war. Its ...</td>\n",
       "      <td>[hey, man, im, really, trying, edit, war, guy,...</td>\n",
       "      <td>{'hey': 1, 'man': 1, 'im': 1, 'really': 1, 'tr...</td>\n",
       "      <td>189</td>\n",
       "      <td>26</td>\n",
       "    </tr>\n",
       "    <tr>\n",
       "      <th>3</th>\n",
       "      <td>\"\\nMore\\nI can't make any real suggestions on ...</td>\n",
       "      <td>0</td>\n",
       "      <td>0</td>\n",
       "      <td>0</td>\n",
       "      <td>0</td>\n",
       "      <td>0</td>\n",
       "      <td>0</td>\n",
       "      <td>0</td>\n",
       "      <td>0</td>\n",
       "      <td>4</td>\n",
       "      <td>...</td>\n",
       "      <td>82</td>\n",
       "      <td>0.039</td>\n",
       "      <td>0.906</td>\n",
       "      <td>0.055</td>\n",
       "      <td>0.2500</td>\n",
       "      <td>\" More I cant make any real suggestions on imp...</td>\n",
       "      <td>[cant, make, real, suggestion, improvement, wo...</td>\n",
       "      <td>{'more': 1, 'i': 4, 'cant': 1, 'make': 1, 'rea...</td>\n",
       "      <td>503</td>\n",
       "      <td>34</td>\n",
       "    </tr>\n",
       "    <tr>\n",
       "      <th>4</th>\n",
       "      <td>You, sir, are my hero. Any chance you remember...</td>\n",
       "      <td>0</td>\n",
       "      <td>0</td>\n",
       "      <td>0</td>\n",
       "      <td>0</td>\n",
       "      <td>0</td>\n",
       "      <td>0</td>\n",
       "      <td>0</td>\n",
       "      <td>0</td>\n",
       "      <td>2</td>\n",
       "      <td>...</td>\n",
       "      <td>13</td>\n",
       "      <td>0.000</td>\n",
       "      <td>0.663</td>\n",
       "      <td>0.337</td>\n",
       "      <td>0.6808</td>\n",
       "      <td>You sir are my hero. Any chance you remember w...</td>\n",
       "      <td>[sir, hero, chance, remember, page, thats]</td>\n",
       "      <td>{'you': 1, 'sir': 1, 'hero': 1, 'any': 1, 'cha...</td>\n",
       "      <td>52</td>\n",
       "      <td>21</td>\n",
       "    </tr>\n",
       "  </tbody>\n",
       "</table>\n",
       "<p>5 rows × 21 columns</p>\n",
       "</div>"
      ],
      "text/plain": [
       "                                        comment_text  toxic  severe_toxic  \\\n",
       "0  Explanation\\nWhy the edits made under my usern...      0             0   \n",
       "1  D'aww! He matches this background colour I'm s...      0             0   \n",
       "2  Hey man, I'm really not trying to edit war. It...      0             0   \n",
       "3  \"\\nMore\\nI can't make any real suggestions on ...      0             0   \n",
       "4  You, sir, are my hero. Any chance you remember...      0             0   \n",
       "\n",
       "   obscene  threat  insult  identity_hate  toxic_cum_sum  is_negative  \\\n",
       "0        0       0       0              0              0            0   \n",
       "1        0       0       0              0              0            0   \n",
       "2        0       0       0              0              0            0   \n",
       "3        0       0       0              0              0            0   \n",
       "4        0       0       0              0              0            0   \n",
       "\n",
       "   sentence_count  ...  count_unique_word    neg    neu    pos  compound  \\\n",
       "0               3  ...                 41  0.000  0.899  0.101    0.5574   \n",
       "1               4  ...                 17  0.099  0.743  0.158    0.2942   \n",
       "2               3  ...                 39  0.083  0.849  0.068   -0.1779   \n",
       "3               4  ...                 82  0.039  0.906  0.055    0.2500   \n",
       "4               2  ...                 13  0.000  0.663  0.337    0.6808   \n",
       "\n",
       "                                  comment_text_clean  \\\n",
       "0  Explanation Why the edits made under my userna...   \n",
       "1  Daww! He matches this background colour Im see...   \n",
       "2  Hey man Im really not trying to edit war. Its ...   \n",
       "3  \" More I cant make any real suggestions on imp...   \n",
       "4  You sir are my hero. Any chance you remember w...   \n",
       "\n",
       "                                  tok_clean_comments  \\\n",
       "0  [explanation, edits, made, username, hardcore,...   \n",
       "1  [daww, match, background, colour, im, seemingl...   \n",
       "2  [hey, man, im, really, trying, edit, war, guy,...   \n",
       "3  [cant, make, real, suggestion, improvement, wo...   \n",
       "4         [sir, hero, chance, remember, page, thats]   \n",
       "\n",
       "                                          word_count char_count  \\\n",
       "0  {'explanation': 1, 'why': 1, 'edits': 1, 'made...        218   \n",
       "1  {'daww': 1, 'he': 1, 'matches': 1, 'background...         91   \n",
       "2  {'hey': 1, 'man': 1, 'im': 1, 'really': 1, 'tr...        189   \n",
       "3  {'more': 1, 'i': 4, 'cant': 1, 'make': 1, 'rea...        503   \n",
       "4  {'you': 1, 'sir': 1, 'hero': 1, 'any': 1, 'cha...         52   \n",
       "\n",
       "   unq_char_count  \n",
       "0              45  \n",
       "1              36  \n",
       "2              26  \n",
       "3              34  \n",
       "4              21  \n",
       "\n",
       "[5 rows x 21 columns]"
      ]
     },
     "execution_count": 234,
     "metadata": {},
     "output_type": "execute_result"
    }
   ],
   "source": [
    "df.head()"
   ]
  },
  {
   "cell_type": "code",
   "execution_count": 236,
   "metadata": {
    "ExecuteTime": {
     "end_time": "2021-03-11T08:31:06.524598Z",
     "start_time": "2021-03-11T08:31:05.972726Z"
    }
   },
   "outputs": [
    {
     "data": {
      "image/png": "[encoded data removed]",
      "text/plain": [
       "<Figure size 576x432 with 1 Axes>"
      ]
     },
     "metadata": {
      "needs_background": "light"
     },
     "output_type": "display_data"
    }
   ],
   "source": [
    "plt.figure(figsize=(8,6))\n",
    "sns.boxplot(x='is_negative', y='char_count', data=df)\n",
    "plt.title('Plot of No. of char in each comment')\n",
    "plt.xlabel('is_negative')\n",
    "plt.ylabel('No. of unique words')\n",
    "plt.show()"
   ]
  },
  {
   "cell_type": "code",
   "execution_count": 237,
   "metadata": {
    "ExecuteTime": {
     "end_time": "2021-03-11T08:31:19.188292Z",
     "start_time": "2021-03-11T08:31:18.848254Z"
    }
   },
   "outputs": [
    {
     "data": {
      "image/png": "[encoded data removed]",
      "text/plain": [
       "<Figure size 576x432 with 1 Axes>"
      ]
     },
     "metadata": {
      "needs_background": "light"
     },
     "output_type": "display_data"
    }
   ],
   "source": [
    "plt.figure(figsize=(8,6))\n",
    "sns.boxplot(x='is_negative', y='unq_char_count', data=df)\n",
    "plt.title('Plot of No. of unique char in each comment')\n",
    "plt.xlabel('is_negative')\n",
    "plt.ylabel('No. of unique words')\n",
    "plt.show()"
   ]
  },
  {
   "cell_type": "markdown",
   "metadata": {},
   "source": [
    "## N-grams"
   ]
  },
  {
   "cell_type": "code",
   "execution_count": null,
   "metadata": {},
   "outputs": [],
   "source": []
  },
  {
   "cell_type": "code",
   "execution_count": null,
   "metadata": {},
   "outputs": [],
   "source": []
  },
  {
   "cell_type": "markdown",
   "metadata": {},
   "source": [
    "# Others"
   ]
  },
  {
   "cell_type": "code",
   "execution_count": 100,
   "metadata": {
    "ExecuteTime": {
     "end_time": "2021-03-10T07:43:07.816149Z",
     "start_time": "2021-03-10T07:43:07.779684Z"
    }
   },
   "outputs": [
    {
     "name": "stdout",
     "output_type": "stream",
     "text": [
      "toxic:\n",
      "54995                              Hi!   I wanna rape you!\n",
      "22018    Terrorize  I will terrorise you for as long as...\n",
      "Name: comment_text_clean, dtype: object \n",
      "\n",
      "severe_toxic:\n",
      "90354     \"   WHAT  IN THE FUCK ARE YOU REFERRING TOO   ...\n",
      "113229    takes it up the arse.  takes it up the arse.  ...\n",
      "Name: comment_text_clean, dtype: object \n",
      "\n",
      "obscene:\n",
      "113629    You are an utter fucking faggot...u need a lif...\n",
      "14153     WTF!   u fckin faggot ass mutha fcker u jus re...\n",
      "Name: comment_text_clean, dtype: object \n",
      "\n",
      "threat:\n",
      "157361    if you do not stop the wikapidea nijas will co...\n",
      "11199     Fuck you Sarcasticidealist i will kill you wit...\n",
      "Name: comment_text_clean, dtype: object \n",
      "\n",
      "insult:\n",
      "27944          FUCK YOU ALL LOSERS   FUCK OFF MY PAGE FAGS\n",
      "32879    What are you retarded? I already am blocked. W...\n",
      "Name: comment_text_clean, dtype: object \n",
      "\n",
      "identity_hate:\n",
      "124316                REDIRECT Talk:Bolivian chinchilla rat\n",
      "57276     TO SITUSH(PAKISTANI  PIG)   What  is your prob...\n",
      "Name: comment_text_clean, dtype: object \n",
      "\n"
     ]
    }
   ],
   "source": [
    "classifications = df[toxic_cols].columns.values\n",
    "\n",
    "for classification in classifications:\n",
    "    print ('{}:'.format(classification))\n",
    "    print (df[df[classification] == 1]['comment_text_clean'].sample(2, random_state=42), '\\n')"
   ]
  },
  {
   "cell_type": "code",
   "execution_count": 271,
   "metadata": {
    "ExecuteTime": {
     "end_time": "2021-03-12T03:04:31.011596Z",
     "start_time": "2021-03-12T03:04:30.644614Z"
    }
   },
   "outputs": [
    {
     "name": "stdout",
     "output_type": "stream",
     "text": [
      "The autoreload extension is already loaded. To reload it, use:\n",
      "  %reload_ext autoreload\n"
     ]
    }
   ],
   "source": [
    "%load_ext autoreload\n",
    "%autoreload 2"
   ]
  },
  {
   "cell_type": "code",
   "execution_count": 272,
   "metadata": {
    "ExecuteTime": {
     "end_time": "2021-03-12T03:04:31.568217Z",
     "start_time": "2021-03-12T03:04:31.543956Z"
    }
   },
   "outputs": [
    {
     "name": "stdout",
     "output_type": "stream",
     "text": [
      "['/anaconda3/envs/personal/lib/python36.zip', '/anaconda3/envs/personal/lib/python3.6', '/anaconda3/envs/personal/lib/python3.6/lib-dynload', '', '/Users/arsyad/.local/lib/python3.6/site-packages', '/anaconda3/envs/personal/lib/python3.6/site-packages', '/anaconda3/envs/personal/lib/python3.6/site-packages/IPython/extensions', '/Users/arsyad/.ipython', '../']\n"
     ]
    }
   ],
   "source": [
    "import os, sys\n",
    "\n",
    "if '../' not in sys.path:\n",
    "    sys.path.append('../')\n",
    "print (sys.path)\n",
    "\n",
    "from src.datapipeline import DataIngest, DataPipeline"
   ]
  },
  {
   "cell_type": "code",
   "execution_count": 273,
   "metadata": {
    "ExecuteTime": {
     "end_time": "2021-03-12T03:04:33.052191Z",
     "start_time": "2021-03-12T03:04:32.392550Z"
    }
   },
   "outputs": [],
   "source": [
    "ingest = DataIngest()\n",
    "file = ingest.read_data(path, 'csv')"
   ]
  },
  {
   "cell_type": "code",
   "execution_count": 274,
   "metadata": {
    "ExecuteTime": {
     "end_time": "2021-03-12T03:07:14.191548Z",
     "start_time": "2021-03-12T03:04:33.543720Z"
    }
   },
   "outputs": [
    {
     "name": "stdout",
     "output_type": "stream",
     "text": [
      "add_stopwords: None <class 'NoneType'>\n"
     ]
    }
   ],
   "source": [
    "dp = DataPipeline()\n",
    "dp.clean_data(file)"
   ]
  },
  {
   "cell_type": "code",
   "execution_count": 275,
   "metadata": {
    "ExecuteTime": {
     "end_time": "2021-03-12T03:07:14.234410Z",
     "start_time": "2021-03-12T03:07:14.193456Z"
    }
   },
   "outputs": [
    {
     "data": {
      "text/html": [
       "<div>\n",
       "<style scoped>\n",
       "    .dataframe tbody tr th:only-of-type {\n",
       "        vertical-align: middle;\n",
       "    }\n",
       "\n",
       "    .dataframe tbody tr th {\n",
       "        vertical-align: top;\n",
       "    }\n",
       "\n",
       "    .dataframe thead th {\n",
       "        text-align: right;\n",
       "    }\n",
       "</style>\n",
       "<table border=\"1\" class=\"dataframe\">\n",
       "  <thead>\n",
       "    <tr style=\"text-align: right;\">\n",
       "      <th></th>\n",
       "      <th>comment_text</th>\n",
       "      <th>toxic</th>\n",
       "      <th>severe_toxic</th>\n",
       "      <th>obscene</th>\n",
       "      <th>threat</th>\n",
       "      <th>insult</th>\n",
       "      <th>identity_hate</th>\n",
       "      <th>toxic_cum_sum</th>\n",
       "      <th>is_negative</th>\n",
       "      <th>sentence_count</th>\n",
       "      <th>count_word</th>\n",
       "      <th>count_unique_word</th>\n",
       "      <th>comment_text_clean</th>\n",
       "      <th>char_count</th>\n",
       "      <th>unq_char_count</th>\n",
       "      <th>tok_clean_comments</th>\n",
       "    </tr>\n",
       "  </thead>\n",
       "  <tbody>\n",
       "    <tr>\n",
       "      <th>0</th>\n",
       "      <td>Explanation\\nWhy the edits made under my usern...</td>\n",
       "      <td>0</td>\n",
       "      <td>0</td>\n",
       "      <td>0</td>\n",
       "      <td>0</td>\n",
       "      <td>0</td>\n",
       "      <td>0</td>\n",
       "      <td>0</td>\n",
       "      <td>0</td>\n",
       "      <td>3</td>\n",
       "      <td>43</td>\n",
       "      <td>41</td>\n",
       "      <td>Explanation Why the edits made under my userna...</td>\n",
       "      <td>218</td>\n",
       "      <td>45</td>\n",
       "      <td>[explanation, edits, made, username, hardcore,...</td>\n",
       "    </tr>\n",
       "    <tr>\n",
       "      <th>1</th>\n",
       "      <td>D'aww! He matches this background colour I'm s...</td>\n",
       "      <td>0</td>\n",
       "      <td>0</td>\n",
       "      <td>0</td>\n",
       "      <td>0</td>\n",
       "      <td>0</td>\n",
       "      <td>0</td>\n",
       "      <td>0</td>\n",
       "      <td>0</td>\n",
       "      <td>4</td>\n",
       "      <td>17</td>\n",
       "      <td>17</td>\n",
       "      <td>Daww! He matches this background colour Im see...</td>\n",
       "      <td>91</td>\n",
       "      <td>36</td>\n",
       "      <td>[daww, match, background, colour, im, seemingl...</td>\n",
       "    </tr>\n",
       "    <tr>\n",
       "      <th>2</th>\n",
       "      <td>Hey man, I'm really not trying to edit war. It...</td>\n",
       "      <td>0</td>\n",
       "      <td>0</td>\n",
       "      <td>0</td>\n",
       "      <td>0</td>\n",
       "      <td>0</td>\n",
       "      <td>0</td>\n",
       "      <td>0</td>\n",
       "      <td>0</td>\n",
       "      <td>3</td>\n",
       "      <td>42</td>\n",
       "      <td>39</td>\n",
       "      <td>Hey man Im really not trying to edit war. Its ...</td>\n",
       "      <td>189</td>\n",
       "      <td>26</td>\n",
       "      <td>[hey, man, im, really, trying, edit, war, guy,...</td>\n",
       "    </tr>\n",
       "    <tr>\n",
       "      <th>3</th>\n",
       "      <td>\"\\nMore\\nI can't make any real suggestions on ...</td>\n",
       "      <td>0</td>\n",
       "      <td>0</td>\n",
       "      <td>0</td>\n",
       "      <td>0</td>\n",
       "      <td>0</td>\n",
       "      <td>0</td>\n",
       "      <td>0</td>\n",
       "      <td>0</td>\n",
       "      <td>4</td>\n",
       "      <td>113</td>\n",
       "      <td>82</td>\n",
       "      <td>\" More I cant make any real suggestions on imp...</td>\n",
       "      <td>503</td>\n",
       "      <td>34</td>\n",
       "      <td>[cant, make, real, suggestion, improvement, wo...</td>\n",
       "    </tr>\n",
       "    <tr>\n",
       "      <th>4</th>\n",
       "      <td>You, sir, are my hero. Any chance you remember...</td>\n",
       "      <td>0</td>\n",
       "      <td>0</td>\n",
       "      <td>0</td>\n",
       "      <td>0</td>\n",
       "      <td>0</td>\n",
       "      <td>0</td>\n",
       "      <td>0</td>\n",
       "      <td>0</td>\n",
       "      <td>2</td>\n",
       "      <td>13</td>\n",
       "      <td>13</td>\n",
       "      <td>You sir are my hero. Any chance you remember w...</td>\n",
       "      <td>52</td>\n",
       "      <td>21</td>\n",
       "      <td>[sir, hero, chance, remember, page, thats]</td>\n",
       "    </tr>\n",
       "  </tbody>\n",
       "</table>\n",
       "</div>"
      ],
      "text/plain": [
       "                                        comment_text  toxic  severe_toxic  \\\n",
       "0  Explanation\\nWhy the edits made under my usern...      0             0   \n",
       "1  D'aww! He matches this background colour I'm s...      0             0   \n",
       "2  Hey man, I'm really not trying to edit war. It...      0             0   \n",
       "3  \"\\nMore\\nI can't make any real suggestions on ...      0             0   \n",
       "4  You, sir, are my hero. Any chance you remember...      0             0   \n",
       "\n",
       "   obscene  threat  insult  identity_hate  toxic_cum_sum  is_negative  \\\n",
       "0        0       0       0              0              0            0   \n",
       "1        0       0       0              0              0            0   \n",
       "2        0       0       0              0              0            0   \n",
       "3        0       0       0              0              0            0   \n",
       "4        0       0       0              0              0            0   \n",
       "\n",
       "   sentence_count  count_word  count_unique_word  \\\n",
       "0               3          43                 41   \n",
       "1               4          17                 17   \n",
       "2               3          42                 39   \n",
       "3               4         113                 82   \n",
       "4               2          13                 13   \n",
       "\n",
       "                                  comment_text_clean  char_count  \\\n",
       "0  Explanation Why the edits made under my userna...         218   \n",
       "1  Daww! He matches this background colour Im see...          91   \n",
       "2  Hey man Im really not trying to edit war. Its ...         189   \n",
       "3  \" More I cant make any real suggestions on imp...         503   \n",
       "4  You sir are my hero. Any chance you remember w...          52   \n",
       "\n",
       "   unq_char_count                                 tok_clean_comments  \n",
       "0              45  [explanation, edits, made, username, hardcore,...  \n",
       "1              36  [daww, match, background, colour, im, seemingl...  \n",
       "2              26  [hey, man, im, really, trying, edit, war, guy,...  \n",
       "3              34  [cant, make, real, suggestion, improvement, wo...  \n",
       "4              21         [sir, hero, chance, remember, page, thats]  "
      ]
     },
     "execution_count": 275,
     "metadata": {},
     "output_type": "execute_result"
    }
   ],
   "source": [
    "file.head()"
   ]
  },
  {
   "cell_type": "code",
   "execution_count": null,
   "metadata": {},
   "outputs": [],
   "source": []
  },
  {
   "cell_type": "code",
   "execution_count": 297,
   "metadata": {
    "ExecuteTime": {
     "end_time": "2021-03-13T02:27:13.423769Z",
     "start_time": "2021-03-13T02:27:13.399640Z"
    }
   },
   "outputs": [
    {
     "name": "stdout",
     "output_type": "stream",
     "text": [
      "1\n",
      "1\n",
      "2\n",
      "3\n",
      "5\n",
      "8\n"
     ]
    }
   ],
   "source": [
    "a = 0\n",
    "b = 1\n",
    "c = 0\n",
    "i = 10\n",
    "\n",
    "while b < i:\n",
    "    print (b)\n",
    "    c = b + a\n",
    "    a = b\n",
    "    b = c\n",
    "#     a, b = c, a\n",
    "    "
   ]
  },
  {
   "cell_type": "code",
   "execution_count": 319,
   "metadata": {
    "ExecuteTime": {
     "end_time": "2021-03-13T03:28:22.890582Z",
     "start_time": "2021-03-13T03:28:22.862254Z"
    }
   },
   "outputs": [
    {
     "name": "stdout",
     "output_type": "stream",
     "text": [
      "pos\n"
     ]
    }
   ],
   "source": [
    "a = 123\n",
    "sign = [1, -1][a < 0]\n",
    "if sign > 0:\n",
    "    print ('pos')\n",
    "else:\n",
    "    print ('neg')"
   ]
  },
  {
   "cell_type": "code",
   "execution_count": 404,
   "metadata": {
    "ExecuteTime": {
     "end_time": "2021-03-15T05:07:51.789451Z",
     "start_time": "2021-03-15T05:07:51.418156Z"
    }
   },
   "outputs": [
    {
     "data": {
      "text/plain": [
       "True"
      ]
     },
     "execution_count": 404,
     "metadata": {},
     "output_type": "execute_result"
    }
   ],
   "source": [
    "a = 134\n",
    "b = 134\n",
    "\n",
    "a is b"
   ]
  },
  {
   "cell_type": "code",
   "execution_count": 332,
   "metadata": {
    "ExecuteTime": {
     "end_time": "2021-03-13T05:27:33.889834Z",
     "start_time": "2021-03-13T05:27:33.769147Z"
    }
   },
   "outputs": [
    {
     "ename": "AttributeError",
     "evalue": "'str' object has no attribute 'remove'",
     "output_type": "error",
     "traceback": [
      "\u001b[0;31m---------------------------------------------------------------------------\u001b[0m",
      "\u001b[0;31mAttributeError\u001b[0m                            Traceback (most recent call last)",
      "\u001b[0;32m<ipython-input-332-34d1ff8e9e3c>\u001b[0m in \u001b[0;36m<module>\u001b[0;34m\u001b[0m\n\u001b[0;32m----> 1\u001b[0;31m \u001b[0ma\u001b[0m\u001b[0;34m.\u001b[0m\u001b[0mremove\u001b[0m\u001b[0;34m(\u001b[0m\u001b[0;34m'a'\u001b[0m\u001b[0;34m)\u001b[0m\u001b[0;34m\u001b[0m\u001b[0;34m\u001b[0m\u001b[0m\n\u001b[0m",
      "\u001b[0;31mAttributeError\u001b[0m: 'str' object has no attribute 'remove'"
     ]
    }
   ],
   "source": []
  },
  {
   "cell_type": "code",
   "execution_count": null,
   "metadata": {},
   "outputs": [],
   "source": []
  },
  {
   "cell_type": "code",
   "execution_count": null,
   "metadata": {},
   "outputs": [],
   "source": []
  }
 ],
 "metadata": {
  "hide_input": false,
  "kernelspec": {
   "display_name": "Python 3",
   "language": "python",
   "name": "python3"
  },
  "language_info": {
   "codemirror_mode": {
    "name": "ipython",
    "version": 3
   },
   "file_extension": ".py",
   "mimetype": "text/x-python",
   "name": "python",
   "nbconvert_exporter": "python",
   "pygments_lexer": "ipython3",
   "version": "3.6.8"
  },
  "latex_envs": {
   "LaTeX_envs_menu_present": true,
   "autoclose": false,
   "autocomplete": true,
   "bibliofile": "biblio.bib",
   "cite_by": "apalike",
   "current_citInitial": 1,
   "eqLabelWithNumbers": true,
   "eqNumInitial": 1,
   "hotkeys": {
    "equation": "Ctrl-E",
    "itemize": "Ctrl-I"
   },
   "labels_anchors": false,
   "latex_user_defs": false,
   "report_style_numbering": false,
   "user_envs_cfg": false
  },
  "toc": {
   "base_numbering": 1,
   "nav_menu": {},
   "number_sections": true,
   "sideBar": true,
   "skip_h1_title": false,
   "title_cell": "Table of Contents",
   "title_sidebar": "Contents",
   "toc_cell": false,
   "toc_position": {
    "height": "calc(100% - 180px)",
    "left": "10px",
    "top": "150px",
    "width": "241.997px"
   },
   "toc_section_display": true,
   "toc_window_display": true
  }
 },
 "nbformat": 4,
 "nbformat_minor": 2
}
